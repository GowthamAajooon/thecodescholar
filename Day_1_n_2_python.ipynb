{
 "cells": [
  {
   "cell_type": "markdown",
   "metadata": {
    "id": "O9GeRJwZyHQm"
   },
   "source": [
    "# An Informal Introduction to Python\n",
    "\n",
    "Python is an interpreted high-level general-purpose programming language. Python's design philosophy emphasizes code readability with its notable use of significant indentation.\n",
    "\n",
    "Python is a programming language that lets you work quickly\n",
    "and integrate systems more effectively.\n",
    "\n",
    "Source: [python.org](https://www.python.org/), [wikipedia](https://en.wikipedia.org/wiki/Python_(programming_language)\n",
    "\n",
    "Docs: [docs.python.org](https://docs.python.org/3/)\n",
    "\n",
    "**The Python standard library contains well over 200 modules, although the exact number varies between distributions.  Over 235,000 Python packages can be accessed through PyPI ([Python Package Index](https://pypi.org/)). [[Source](https://en.wikipedia.org/wiki/Python_Package_Index#:~:text=Over%20235%2C000%20Python%20packages%20can%20be%20accessed%20through%20PyPI.)]**"
   ]
  },
  {
   "cell_type": "code",
   "execution_count": null,
   "metadata": {
    "id": "kWD4OpvaxIOp"
   },
   "outputs": [],
   "source": [
    "# this is the first comment\n",
    "spam = 1  # and this is the second comment\n",
    "          # ... and now a third!\n",
    "text = \"# This is not a comment because it's inside quotes.\""
   ]
  },
  {
   "cell_type": "markdown",
   "metadata": {
    "id": "kkTiLanpygZU"
   },
   "source": [
    "#1. [Using Python as a Calculator](https://docs.python.org/3.6/tutorial/introduction.html#using-python-as-a-calculator)\n",
    "\n",
    "The interpreter acts as a simple calculator: you can type an expression at it and it will write the value. Expression syntax is straightforward: the operators +, -, * and / work just like in most other languages (for example, Pascal or C); parentheses (()) can be used for grouping. For example:"
   ]
  },
  {
   "cell_type": "code",
   "execution_count": null,
   "metadata": {
    "colab": {
     "base_uri": "https://localhost:8080/",
     "height": 34
    },
    "executionInfo": {
     "elapsed": 5356,
     "status": "ok",
     "timestamp": 1594880420761,
     "user": {
      "displayName": "Clash Clans",
      "photoUrl": "",
      "userId": "00562530571182710236"
     },
     "user_tz": -330
    },
    "id": "HWPVnHBmyac2",
    "outputId": "cd33e46d-58c5-49df-f355-1cb4b23a47c1"
   },
   "outputs": [
    {
     "data": {
      "text/plain": [
       "5.0"
      ]
     },
     "execution_count": 149,
     "metadata": {
      "tags": []
     },
     "output_type": "execute_result"
    }
   ],
   "source": [
    "# BODMAS stands for Bracket, Of, Division, Multiplication, Addition, and Subtraction\n",
    "(50 - 5*6) / 4 # execute according to bodmas rule"
   ]
  },
  {
   "cell_type": "code",
   "execution_count": null,
   "metadata": {
    "colab": {
     "base_uri": "https://localhost:8080/",
     "height": 34
    },
    "executionInfo": {
     "elapsed": 5334,
     "status": "ok",
     "timestamp": 1594880420762,
     "user": {
      "displayName": "Clash Clans",
      "photoUrl": "",
      "userId": "00562530571182710236"
     },
     "user_tz": -330
    },
    "id": "mYFTt6Poy2td",
    "outputId": "35d405ed-2aef-409d-9f60-986fdd50ee06"
   },
   "outputs": [
    {
     "data": {
      "text/plain": [
       "1.6"
      ]
     },
     "execution_count": 150,
     "metadata": {
      "tags": []
     },
     "output_type": "execute_result"
    }
   ],
   "source": [
    "8 / 5  # division always returns a floating point number"
   ]
  },
  {
   "cell_type": "code",
   "execution_count": null,
   "metadata": {
    "colab": {
     "base_uri": "https://localhost:8080/",
     "height": 34
    },
    "executionInfo": {
     "elapsed": 5314,
     "status": "ok",
     "timestamp": 1594880420764,
     "user": {
      "displayName": "Clash Clans",
      "photoUrl": "",
      "userId": "00562530571182710236"
     },
     "user_tz": -330
    },
    "id": "14yRJHhzzX3x",
    "outputId": "47b21ba3-5b9c-4182-bca7-b8cd327fc2f3"
   },
   "outputs": [
    {
     "data": {
      "text/plain": [
       "5.666666666666667"
      ]
     },
     "execution_count": 151,
     "metadata": {
      "tags": []
     },
     "output_type": "execute_result"
    }
   ],
   "source": [
    "17 / 3  # classic division returns a float"
   ]
  },
  {
   "cell_type": "code",
   "execution_count": null,
   "metadata": {
    "colab": {
     "base_uri": "https://localhost:8080/",
     "height": 34
    },
    "executionInfo": {
     "elapsed": 5292,
     "status": "ok",
     "timestamp": 1594880420765,
     "user": {
      "displayName": "Clash Clans",
      "photoUrl": "",
      "userId": "00562530571182710236"
     },
     "user_tz": -330
    },
    "id": "FaNKDlj3zcjj",
    "outputId": "f86e0a5a-b219-422d-ba31-59bfa51ddb67"
   },
   "outputs": [
    {
     "data": {
      "text/plain": [
       "5"
      ]
     },
     "execution_count": 152,
     "metadata": {
      "tags": []
     },
     "output_type": "execute_result"
    }
   ],
   "source": [
    "17 // 3  # floor division discards the fractional part"
   ]
  },
  {
   "cell_type": "code",
   "execution_count": null,
   "metadata": {
    "colab": {
     "base_uri": "https://localhost:8080/",
     "height": 34
    },
    "executionInfo": {
     "elapsed": 5262,
     "status": "ok",
     "timestamp": 1594880420766,
     "user": {
      "displayName": "Clash Clans",
      "photoUrl": "",
      "userId": "00562530571182710236"
     },
     "user_tz": -330
    },
    "id": "iOygcYp-zfgs",
    "outputId": "1f5cf3e1-2843-4bd5-b39b-d8aafbde5447"
   },
   "outputs": [
    {
     "data": {
      "text/plain": [
       "2"
      ]
     },
     "execution_count": 153,
     "metadata": {
      "tags": []
     },
     "output_type": "execute_result"
    }
   ],
   "source": [
    "17 % 3  # the % operator returns the remainder of the division"
   ]
  },
  {
   "cell_type": "code",
   "execution_count": null,
   "metadata": {
    "colab": {
     "base_uri": "https://localhost:8080/",
     "height": 34
    },
    "executionInfo": {
     "elapsed": 5243,
     "status": "ok",
     "timestamp": 1594880420768,
     "user": {
      "displayName": "Clash Clans",
      "photoUrl": "",
      "userId": "00562530571182710236"
     },
     "user_tz": -330
    },
    "id": "n61_p6oVzlYx",
    "outputId": "86adfe03-6875-4703-b088-beacc7bea07e"
   },
   "outputs": [
    {
     "data": {
      "text/plain": [
       "128"
      ]
     },
     "execution_count": 154,
     "metadata": {
      "tags": []
     },
     "output_type": "execute_result"
    }
   ],
   "source": [
    "2 ** 7  # 2 to the power of 7"
   ]
  },
  {
   "cell_type": "markdown",
   "metadata": {
    "id": "cDHerArdzwCL"
   },
   "source": [
    "### Assigning value to variable\n",
    "\n",
    "The **equal sign (=)** is used to assign a value to a variable. Afterwards, no result is displayed before the next interactive prompt:"
   ]
  },
  {
   "cell_type": "code",
   "execution_count": null,
   "metadata": {
    "colab": {
     "base_uri": "https://localhost:8080/",
     "height": 34
    },
    "executionInfo": {
     "elapsed": 5227,
     "status": "ok",
     "timestamp": 1594880420770,
     "user": {
      "displayName": "Clash Clans",
      "photoUrl": "",
      "userId": "00562530571182710236"
     },
     "user_tz": -330
    },
    "id": "hOO9B1mbzpGl",
    "outputId": "3f095845-8486-4a28-8868-0b981d96dd66"
   },
   "outputs": [
    {
     "data": {
      "text/plain": [
       "900"
      ]
     },
     "execution_count": 155,
     "metadata": {
      "tags": []
     },
     "output_type": "execute_result"
    }
   ],
   "source": [
    "width = 20\n",
    "height = 5 * 9\n",
    "width * height  # 20*(5*9)"
   ]
  },
  {
   "cell_type": "markdown",
   "metadata": {
    "id": "pOP47MA_0P9v"
   },
   "source": [
    "In **interactive mode**, the last printed expression is assigned to the variable _. This means that when you are using Python as a desk calculator, it is somewhat easier to continue calculations, for example:"
   ]
  },
  {
   "cell_type": "code",
   "execution_count": null,
   "metadata": {
    "colab": {
     "base_uri": "https://localhost:8080/",
     "height": 34
    },
    "executionInfo": {
     "elapsed": 5209,
     "status": "ok",
     "timestamp": 1594880420771,
     "user": {
      "displayName": "Clash Clans",
      "photoUrl": "",
      "userId": "00562530571182710236"
     },
     "user_tz": -330
    },
    "id": "1Qs87KdlzrDG",
    "outputId": "75c4f039-7d61-4598-9698-cc13053c4a66"
   },
   "outputs": [
    {
     "data": {
      "text/plain": [
       "12.5625"
      ]
     },
     "execution_count": 156,
     "metadata": {
      "tags": []
     },
     "output_type": "execute_result"
    }
   ],
   "source": [
    "tax = 12.5 / 100\n",
    "price = 100.50\n",
    "price * tax"
   ]
  },
  {
   "cell_type": "code",
   "execution_count": null,
   "metadata": {
    "colab": {
     "base_uri": "https://localhost:8080/",
     "height": 34
    },
    "executionInfo": {
     "elapsed": 5192,
     "status": "ok",
     "timestamp": 1594880420772,
     "user": {
      "displayName": "Clash Clans",
      "photoUrl": "",
      "userId": "00562530571182710236"
     },
     "user_tz": -330
    },
    "id": "gNT7uCey0Yv7",
    "outputId": "4faaa394-1185-4e89-885d-6d4c1f6b060a"
   },
   "outputs": [
    {
     "data": {
      "text/plain": [
       "113.0625"
      ]
     },
     "execution_count": 157,
     "metadata": {
      "tags": []
     },
     "output_type": "execute_result"
    }
   ],
   "source": [
    "price + _"
   ]
  },
  {
   "cell_type": "code",
   "execution_count": null,
   "metadata": {
    "colab": {
     "base_uri": "https://localhost:8080/",
     "height": 34
    },
    "executionInfo": {
     "elapsed": 5172,
     "status": "ok",
     "timestamp": 1594880420774,
     "user": {
      "displayName": "Clash Clans",
      "photoUrl": "",
      "userId": "00562530571182710236"
     },
     "user_tz": -330
    },
    "id": "moDCwdBs0cdy",
    "outputId": "33aeba32-1c7b-4bcc-fb85-857ab3308334"
   },
   "outputs": [
    {
     "data": {
      "text/plain": [
       "113.06"
      ]
     },
     "execution_count": 158,
     "metadata": {
      "tags": []
     },
     "output_type": "execute_result"
    }
   ],
   "source": [
    "round(_, 2)"
   ]
  },
  {
   "cell_type": "markdown",
   "metadata": {
    "id": "Nmkfq25h6U3P"
   },
   "source": [
    "### Floating Point Arithmetic: Issues and Limitations !"
   ]
  },
  {
   "cell_type": "code",
   "execution_count": null,
   "metadata": {
    "colab": {
     "base_uri": "https://localhost:8080/",
     "height": 34
    },
    "executionInfo": {
     "elapsed": 4837,
     "status": "ok",
     "timestamp": 1594880420790,
     "user": {
      "displayName": "Clash Clans",
      "photoUrl": "",
      "userId": "00562530571182710236"
     },
     "user_tz": -330
    },
    "id": "OpA4apjq6PVx",
    "outputId": "5613b754-6c86-4dbe-e791-5ed35805bf60"
   },
   "outputs": [
    {
     "data": {
      "text/plain": [
       "False"
      ]
     },
     "execution_count": 174,
     "metadata": {
      "tags": []
     },
     "output_type": "execute_result"
    }
   ],
   "source": [
    ".1 + .1 + .1 == .3  # why ?????"
   ]
  },
  {
   "cell_type": "code",
   "execution_count": null,
   "metadata": {
    "colab": {
     "base_uri": "https://localhost:8080/",
     "height": 34
    },
    "executionInfo": {
     "elapsed": 4807,
     "status": "ok",
     "timestamp": 1594880420791,
     "user": {
      "displayName": "Clash Clans",
      "photoUrl": "",
      "userId": "00562530571182710236"
     },
     "user_tz": -330
    },
    "id": "aWCUSgXp6wtq",
    "outputId": "13b0e1bc-d825-40de-f661-3a8368063535"
   },
   "outputs": [
    {
     "data": {
      "text/plain": [
       "0.30000000000000004"
      ]
     },
     "execution_count": 175,
     "metadata": {
      "tags": []
     },
     "output_type": "execute_result"
    }
   ],
   "source": [
    ".1 + .1 + .1 # Ops?"
   ]
  },
  {
   "cell_type": "code",
   "execution_count": null,
   "metadata": {
    "colab": {
     "base_uri": "https://localhost:8080/",
     "height": 34
    },
    "executionInfo": {
     "elapsed": 4789,
     "status": "ok",
     "timestamp": 1594880420792,
     "user": {
      "displayName": "Clash Clans",
      "photoUrl": "",
      "userId": "00562530571182710236"
     },
     "user_tz": -330
    },
    "id": "7-b71QuC7MiD",
    "outputId": "a00b5e1f-22a1-424a-a602-e084e61c7f34"
   },
   "outputs": [
    {
     "data": {
      "text/plain": [
       "False"
      ]
     },
     "execution_count": 176,
     "metadata": {
      "tags": []
     },
     "output_type": "execute_result"
    }
   ],
   "source": [
    "round(.1, 1) + round(.1, 1) + round(.1, 1) == round(.3, 1)"
   ]
  },
  {
   "cell_type": "code",
   "execution_count": null,
   "metadata": {
    "colab": {
     "base_uri": "https://localhost:8080/",
     "height": 34
    },
    "executionInfo": {
     "elapsed": 4770,
     "status": "ok",
     "timestamp": 1594880420793,
     "user": {
      "displayName": "Clash Clans",
      "photoUrl": "",
      "userId": "00562530571182710236"
     },
     "user_tz": -330
    },
    "id": "RARy-Y5O7OHa",
    "outputId": "fcb43273-6f32-47fc-f4ef-eb450cecf5fb"
   },
   "outputs": [
    {
     "data": {
      "text/plain": [
       "True"
      ]
     },
     "execution_count": 177,
     "metadata": {
      "tags": []
     },
     "output_type": "execute_result"
    }
   ],
   "source": [
    "round(.1 + .1 + .1, 10) == round(.3, 10)"
   ]
  },
  {
   "cell_type": "code",
   "execution_count": null,
   "metadata": {
    "colab": {
     "base_uri": "https://localhost:8080/",
     "height": 54
    },
    "executionInfo": {
     "elapsed": 4753,
     "status": "ok",
     "timestamp": 1594880420794,
     "user": {
      "displayName": "Clash Clans",
      "photoUrl": "",
      "userId": "00562530571182710236"
     },
     "user_tz": -330
    },
    "id": "0UKDQmcl7CCC",
    "outputId": "62b34ebd-e320-41d1-abdf-cde5094d5263"
   },
   "outputs": [
    {
     "data": {
      "text/plain": [
       "sys.float_info(max=1.7976931348623157e+308, max_exp=1024, max_10_exp=308, min=2.2250738585072014e-308, min_exp=-1021, min_10_exp=-307, dig=15, mant_dig=53, epsilon=2.220446049250313e-16, radix=2, rounds=1)"
      ]
     },
     "execution_count": 178,
     "metadata": {
      "tags": []
     },
     "output_type": "execute_result"
    }
   ],
   "source": [
    "import sys\n",
    "sys.float_info"
   ]
  },
  {
   "cell_type": "code",
   "execution_count": null,
   "metadata": {
    "colab": {
     "base_uri": "https://localhost:8080/",
     "height": 34
    },
    "executionInfo": {
     "elapsed": 4735,
     "status": "ok",
     "timestamp": 1594880420795,
     "user": {
      "displayName": "Clash Clans",
      "photoUrl": "",
      "userId": "00562530571182710236"
     },
     "user_tz": -330
    },
    "id": "Xhet28uK8PtQ",
    "outputId": "36cec6cf-bd1f-4a52-9554-cd68fd63a300"
   },
   "outputs": [
    {
     "data": {
      "text/plain": [
       "(float, inf)"
      ]
     },
     "execution_count": 179,
     "metadata": {
      "tags": []
     },
     "output_type": "execute_result"
    }
   ],
   "source": [
    "type(1.797693135e+308), 1.797693135e+308"
   ]
  },
  {
   "cell_type": "markdown",
   "metadata": {
    "id": "TXuxV0LEOP_1"
   },
   "source": [
    "### Bool Data Type --\n"
   ]
  },
  {
   "cell_type": "code",
   "execution_count": null,
   "metadata": {
    "colab": {
     "base_uri": "https://localhost:8080/",
     "height": 34
    },
    "executionInfo": {
     "elapsed": 4463,
     "status": "ok",
     "timestamp": 1594880421511,
     "user": {
      "displayName": "Clash Clans",
      "photoUrl": "",
      "userId": "00562530571182710236"
     },
     "user_tz": -330
    },
    "id": "BuKvP-snOY-b",
    "outputId": "b038d273-10af-40cd-bf05-175aa04b06c2"
   },
   "outputs": [
    {
     "data": {
      "text/plain": [
       "True"
      ]
     },
     "execution_count": 228,
     "metadata": {
      "tags": []
     },
     "output_type": "execute_result"
    }
   ],
   "source": [
    "a = True\n",
    "type(a), a      # a comma forms a tuple"
   ]
  },
  {
   "cell_type": "code",
   "execution_count": null,
   "metadata": {
    "colab": {
     "base_uri": "https://localhost:8080/",
     "height": 34
    },
    "executionInfo": {
     "elapsed": 4445,
     "status": "ok",
     "timestamp": 1594880421512,
     "user": {
      "displayName": "Clash Clans",
      "photoUrl": "",
      "userId": "00562530571182710236"
     },
     "user_tz": -330
    },
    "id": "mS3-YZFaOn1H",
    "outputId": "ae80cdc5-5b16-4641-d522-066e3e7f6dad"
   },
   "outputs": [
    {
     "data": {
      "text/plain": [
       "False"
      ]
     },
     "execution_count": 229,
     "metadata": {
      "tags": []
     },
     "output_type": "execute_result"
    }
   ],
   "source": [
    "2 == 5      # logical operations always return bool type"
   ]
  },
  {
   "cell_type": "code",
   "execution_count": 10,
   "metadata": {
    "colab": {
     "base_uri": "https://localhost:8080/"
    },
    "executionInfo": {
     "elapsed": 558,
     "status": "ok",
     "timestamp": 1622956338561,
     "user": {
      "displayName": "Clash Clans",
      "photoUrl": "",
      "userId": "00562530571182710236"
     },
     "user_tz": -330
    },
    "id": "nPx5lUjJpmnt",
    "outputId": "2e29e200-478d-434b-d4f4-15b9eb0b73b2"
   },
   "outputs": [
    {
     "data": {
      "text/plain": [
       "bool"
      ]
     },
     "execution_count": 10,
     "metadata": {
      "tags": []
     },
     "output_type": "execute_result"
    }
   ],
   "source": [
    "type(-4>-1)     # -4>-1  -> True :-> bool class"
   ]
  },
  {
   "cell_type": "code",
   "execution_count": 13,
   "metadata": {
    "colab": {
     "base_uri": "https://localhost:8080/"
    },
    "executionInfo": {
     "elapsed": 413,
     "status": "ok",
     "timestamp": 1622956712424,
     "user": {
      "displayName": "Clash Clans",
      "photoUrl": "",
      "userId": "00562530571182710236"
     },
     "user_tz": -330
    },
    "id": "T9ouVVClvHbH",
    "outputId": "a8778f48-55b6-45e8-af7f-6129beed35a0"
   },
   "outputs": [
    {
     "data": {
      "text/plain": [
       "False"
      ]
     },
     "execution_count": 13,
     "metadata": {
      "tags": []
     },
     "output_type": "execute_result"
    }
   ],
   "source": [
    "all((5>9,7<9,1>-1))       # when all outputs are true -> true else false "
   ]
  },
  {
   "cell_type": "code",
   "execution_count": 14,
   "metadata": {
    "colab": {
     "base_uri": "https://localhost:8080/"
    },
    "executionInfo": {
     "elapsed": 396,
     "status": "ok",
     "timestamp": 1622956729880,
     "user": {
      "displayName": "Clash Clans",
      "photoUrl": "",
      "userId": "00562530571182710236"
     },
     "user_tz": -330
    },
    "id": "F_f7zjACwXiW",
    "outputId": "b5983942-1536-4954-f988-5318f0c094ca"
   },
   "outputs": [
    {
     "data": {
      "text/plain": [
       "True"
      ]
     },
     "execution_count": 14,
     "metadata": {
      "tags": []
     },
     "output_type": "execute_result"
    }
   ],
   "source": [
    "any([5>9,7<9,1>-1])       # Any output is true, return true"
   ]
  },
  {
   "cell_type": "markdown",
   "metadata": {
    "id": "fVBtglDY9fkb"
   },
   "source": [
    "#2. [Print Is A Function](https://docs.python.org/3.6/whatsnew/3.0.html#print-is-a-function)\n",
    "\n",
    "The print statement has been replaced with a **print()** function, with keyword arguments to replace most of the special syntax of the old print statement (PEP 3105)."
   ]
  },
  {
   "cell_type": "code",
   "execution_count": null,
   "metadata": {
    "colab": {
     "base_uri": "https://localhost:8080/",
     "height": 34
    },
    "executionInfo": {
     "elapsed": 4718,
     "status": "ok",
     "timestamp": 1594880420796,
     "user": {
      "displayName": "Clash Clans",
      "photoUrl": "",
      "userId": "00562530571182710236"
     },
     "user_tz": -330
    },
    "id": "uQ5EJO0h-Ceq",
    "outputId": "aea01a2e-0c99-488a-fc00-820400521390"
   },
   "outputs": [
    {
     "name": "stdout",
     "output_type": "stream",
     "text": [
      "\n"
     ]
    }
   ],
   "source": [
    "print()            # You must call the function!"
   ]
  },
  {
   "cell_type": "code",
   "execution_count": null,
   "metadata": {
    "colab": {
     "base_uri": "https://localhost:8080/",
     "height": 34
    },
    "executionInfo": {
     "elapsed": 4699,
     "status": "ok",
     "timestamp": 1594880420797,
     "user": {
      "displayName": "Clash Clans",
      "photoUrl": "",
      "userId": "00562530571182710236"
     },
     "user_tz": -330
    },
    "id": "95xHl4xa9Lod",
    "outputId": "8975a555-76a8-4845-fa29-a8c2851b2ad3"
   },
   "outputs": [
    {
     "name": "stdout",
     "output_type": "stream",
     "text": [
      "The answer is 4\n"
     ]
    }
   ],
   "source": [
    "print(\"The answer is\", 2*2)"
   ]
  },
  {
   "cell_type": "code",
   "execution_count": 20,
   "metadata": {
    "colab": {
     "base_uri": "https://localhost:8080/"
    },
    "executionInfo": {
     "elapsed": 17,
     "status": "ok",
     "timestamp": 1622957541103,
     "user": {
      "displayName": "Clash Clans",
      "photoUrl": "",
      "userId": "00562530571182710236"
     },
     "user_tz": -330
    },
    "id": "gMR8oqYXyyuQ",
    "outputId": "53bbcbf6-71ef-4b4e-b335-0672ac17a3d0"
   },
   "outputs": [
    {
     "name": "stdout",
     "output_type": "stream",
     "text": [
      "This is the first line of my text, which will be joined to a second. -> Way 1\n",
      "This is the first line of my text, which will be joined to a second. - Way 2\n"
     ]
    }
   ],
   "source": [
    "# Long statements ---\n",
    "print(\"This is the first line of my text, \"\n",
    "\"which will be joined to a second. -> Way 1\")         # How ?\n",
    "\n",
    "print(\"This is the first line of my text, \" \\\n",
    "      \"which will be joined to a second. -> Way 2\")          # What the hell? - line continuation character"
   ]
  },
  {
   "cell_type": "code",
   "execution_count": 21,
   "metadata": {
    "colab": {
     "base_uri": "https://localhost:8080/",
     "height": 35
    },
    "executionInfo": {
     "elapsed": 441,
     "status": "ok",
     "timestamp": 1622957597581,
     "user": {
      "displayName": "Clash Clans",
      "photoUrl": "",
      "userId": "00562530571182710236"
     },
     "user_tz": -330
    },
    "id": "LPJuWB7Pz0pS",
    "outputId": "cbea5362-6caa-4aa0-a286-ccd433508d6a"
   },
   "outputs": [
    {
     "data": {
      "application/vnd.google.colaboratory.intrinsic+json": {
       "type": "string"
      },
      "text/plain": [
       "'Python'"
      ]
     },
     "execution_count": 21,
     "metadata": {
      "tags": []
     },
     "output_type": "execute_result"
    }
   ],
   "source": [
    "\"Py\" \"thon\"       # What? -> Strings (string concatenation)"
   ]
  },
  {
   "cell_type": "markdown",
   "metadata": {
    "id": "FSETwd0g_rtG"
   },
   "source": [
    "#3. [Strings](https://docs.python.org/3.6/tutorial/introduction.html#strings)\n",
    "\n",
    "Besides numbers, Python can also manipulate strings, which can be expressed in several ways. They can be enclosed in single quotes ('...') or double quotes (\"...\") with the same result. \\ can be used to escape quotes:"
   ]
  },
  {
   "cell_type": "code",
   "execution_count": null,
   "metadata": {
    "colab": {
     "base_uri": "https://localhost:8080/",
     "height": 35
    },
    "executionInfo": {
     "elapsed": 4609,
     "status": "ok",
     "timestamp": 1594880420802,
     "user": {
      "displayName": "Clash Clans",
      "photoUrl": "",
      "userId": "00562530571182710236"
     },
     "user_tz": -330
    },
    "id": "m-EEXSjg__HT",
    "outputId": "08187810-eff6-47fa-f243-b3288f8e69f3"
   },
   "outputs": [
    {
     "data": {
      "application/vnd.google.colaboratory.intrinsic": {
       "type": "string"
      },
      "text/plain": [
       "'spam eggs'"
      ]
     },
     "execution_count": 186,
     "metadata": {
      "tags": []
     },
     "output_type": "execute_result"
    }
   ],
   "source": [
    "'spam eggs'  # single quotes"
   ]
  },
  {
   "cell_type": "code",
   "execution_count": null,
   "metadata": {
    "colab": {
     "base_uri": "https://localhost:8080/",
     "height": 35
    },
    "executionInfo": {
     "elapsed": 4594,
     "status": "ok",
     "timestamp": 1594880420804,
     "user": {
      "displayName": "Clash Clans",
      "photoUrl": "",
      "userId": "00562530571182710236"
     },
     "user_tz": -330
    },
    "id": "_Ra-7QjMAGL9",
    "outputId": "542b6f52-40d4-4193-9035-9f7d55c69c9b"
   },
   "outputs": [
    {
     "data": {
      "application/vnd.google.colaboratory.intrinsic": {
       "type": "string"
      },
      "text/plain": [
       "\"doesn't\""
      ]
     },
     "execution_count": 187,
     "metadata": {
      "tags": []
     },
     "output_type": "execute_result"
    }
   ],
   "source": [
    "'doesn\\'t'  # use \\' to escape the single quote..."
   ]
  },
  {
   "cell_type": "code",
   "execution_count": null,
   "metadata": {
    "colab": {
     "base_uri": "https://localhost:8080/",
     "height": 35
    },
    "executionInfo": {
     "elapsed": 4577,
     "status": "ok",
     "timestamp": 1594880420805,
     "user": {
      "displayName": "Clash Clans",
      "photoUrl": "",
      "userId": "00562530571182710236"
     },
     "user_tz": -330
    },
    "id": "uPTk9vUuAJlX",
    "outputId": "deec6585-c2f1-4167-93ff-bf8bf120cc44"
   },
   "outputs": [
    {
     "data": {
      "application/vnd.google.colaboratory.intrinsic": {
       "type": "string"
      },
      "text/plain": [
       "\"doesn't\""
      ]
     },
     "execution_count": 188,
     "metadata": {
      "tags": []
     },
     "output_type": "execute_result"
    }
   ],
   "source": [
    "\"doesn't\"  # ...or use double quotes instead"
   ]
  },
  {
   "cell_type": "code",
   "execution_count": null,
   "metadata": {
    "colab": {
     "base_uri": "https://localhost:8080/",
     "height": 35
    },
    "executionInfo": {
     "elapsed": 4561,
     "status": "ok",
     "timestamp": 1594880420806,
     "user": {
      "displayName": "Clash Clans",
      "photoUrl": "",
      "userId": "00562530571182710236"
     },
     "user_tz": -330
    },
    "id": "79Au_KfRANUP",
    "outputId": "6224bd49-6e9a-4804-8a4a-8aa5263f08ed"
   },
   "outputs": [
    {
     "data": {
      "application/vnd.google.colaboratory.intrinsic": {
       "type": "string"
      },
      "text/plain": [
       "'\"Yes,\" they said.'"
      ]
     },
     "execution_count": 189,
     "metadata": {
      "tags": []
     },
     "output_type": "execute_result"
    }
   ],
   "source": [
    "'\"Yes,\" they said.' # this way also .."
   ]
  },
  {
   "cell_type": "code",
   "execution_count": null,
   "metadata": {
    "colab": {
     "base_uri": "https://localhost:8080/",
     "height": 35
    },
    "executionInfo": {
     "elapsed": 4543,
     "status": "ok",
     "timestamp": 1594880420806,
     "user": {
      "displayName": "Clash Clans",
      "photoUrl": "",
      "userId": "00562530571182710236"
     },
     "user_tz": -330
    },
    "id": "QkY82eZUAQs2",
    "outputId": "636c9889-56b6-4002-93f1-6d6f2b8de306"
   },
   "outputs": [
    {
     "data": {
      "application/vnd.google.colaboratory.intrinsic": {
       "type": "string"
      },
      "text/plain": [
       "'\"Isn\\'t,\" they said.'"
      ]
     },
     "execution_count": 190,
     "metadata": {
      "tags": []
     },
     "output_type": "execute_result"
    }
   ],
   "source": [
    "'\"Isn\\'t,\" they said.'"
   ]
  },
  {
   "cell_type": "code",
   "execution_count": null,
   "metadata": {
    "colab": {
     "base_uri": "https://localhost:8080/",
     "height": 52
    },
    "executionInfo": {
     "elapsed": 4526,
     "status": "ok",
     "timestamp": 1594880420807,
     "user": {
      "displayName": "Clash Clans",
      "photoUrl": "",
      "userId": "00562530571182710236"
     },
     "user_tz": -330
    },
    "id": "yDPunNYGAXnd",
    "outputId": "c1e5b025-5ae7-4476-d636-9c7d581f79bc"
   },
   "outputs": [
    {
     "name": "stdout",
     "output_type": "stream",
     "text": [
      "\"Isn't,\" they said.\n"
     ]
    },
    {
     "data": {
      "application/vnd.google.colaboratory.intrinsic": {
       "type": "string"
      },
      "text/plain": [
       "'First line.\\nSecond line.'"
      ]
     },
     "execution_count": 191,
     "metadata": {
      "tags": []
     },
     "output_type": "execute_result"
    }
   ],
   "source": [
    "print('\"Isn\\'t,\" they said.')\n",
    "s = 'First line.\\nSecond line.'  # \\n means newline\n",
    "s  # without print(), \\n is included in the output"
   ]
  },
  {
   "cell_type": "code",
   "execution_count": null,
   "metadata": {
    "colab": {
     "base_uri": "https://localhost:8080/",
     "height": 51
    },
    "executionInfo": {
     "elapsed": 4509,
     "status": "ok",
     "timestamp": 1594880420808,
     "user": {
      "displayName": "Clash Clans",
      "photoUrl": "",
      "userId": "00562530571182710236"
     },
     "user_tz": -330
    },
    "id": "t14cPLFeAmRH",
    "outputId": "1a91caf3-1d3c-4803-eecb-559c308a5982"
   },
   "outputs": [
    {
     "name": "stdout",
     "output_type": "stream",
     "text": [
      "First line.\n",
      "Second line.\n"
     ]
    }
   ],
   "source": [
    "print(s)  # with print(), \\n produces a new line"
   ]
  },
  {
   "cell_type": "markdown",
   "metadata": {
    "id": "SoMa8nOAAum_"
   },
   "source": [
    "If you don’t want characters prefaced by \\ to be interpreted as special characters, you can use raw strings by adding an r before the first quote:"
   ]
  },
  {
   "cell_type": "code",
   "execution_count": null,
   "metadata": {
    "colab": {
     "base_uri": "https://localhost:8080/",
     "height": 68
    },
    "executionInfo": {
     "elapsed": 4493,
     "status": "ok",
     "timestamp": 1594880420809,
     "user": {
      "displayName": "Clash Clans",
      "photoUrl": "",
      "userId": "00562530571182710236"
     },
     "user_tz": -330
    },
    "id": "L8GBh_EfAqA2",
    "outputId": "8355c58c-634a-4015-d97f-5bda0a52d28d"
   },
   "outputs": [
    {
     "name": "stdout",
     "output_type": "stream",
     "text": [
      "C:\\some\n",
      "ame\n",
      "C:\\some\\name\n"
     ]
    }
   ],
   "source": [
    "# Problem\n",
    "print('C:\\some\\name')  # here \\n means newline!\n",
    "# Solution\n",
    "print(r'C:\\some\\name')  # note the r before the quote"
   ]
  },
  {
   "cell_type": "code",
   "execution_count": null,
   "metadata": {
    "colab": {
     "base_uri": "https://localhost:8080/",
     "height": 52
    },
    "executionInfo": {
     "elapsed": 4477,
     "status": "ok",
     "timestamp": 1594880420813,
     "user": {
      "displayName": "Clash Clans",
      "photoUrl": "",
      "userId": "00562530571182710236"
     },
     "user_tz": -330
    },
    "id": "XoPxX_DYA5f_",
    "outputId": "ab52c1b8-20f9-477c-c3dc-fece71e8fa28"
   },
   "outputs": [
    {
     "data": {
      "application/vnd.google.colaboratory.intrinsic": {
       "type": "string"
      },
      "text/plain": [
       "'Usage: thing [OPTIONS]\\n     -h                        Display this usage message\\n     -H hostname               Hostname to connect to\\n'"
      ]
     },
     "execution_count": 194,
     "metadata": {
      "tags": []
     },
     "output_type": "execute_result"
    }
   ],
   "source": [
    "special = \"\"\"\\\n",
    "Usage: thing [OPTIONS]\n",
    "     -h                        Display this usage message\n",
    "     -H hostname               Hostname to connect to\n",
    "\"\"\"\n",
    "special"
   ]
  },
  {
   "cell_type": "code",
   "execution_count": null,
   "metadata": {
    "colab": {
     "base_uri": "https://localhost:8080/",
     "height": 86
    },
    "executionInfo": {
     "elapsed": 4461,
     "status": "ok",
     "timestamp": 1594880420814,
     "user": {
      "displayName": "Clash Clans",
      "photoUrl": "",
      "userId": "00562530571182710236"
     },
     "user_tz": -330
    },
    "id": "xffJG1LCBEuP",
    "outputId": "2dde1358-435f-4894-8c1a-161e335d2afd"
   },
   "outputs": [
    {
     "name": "stdout",
     "output_type": "stream",
     "text": [
      "Usage: thing [OPTIONS]\n",
      "     -h                        Display this usage message\n",
      "     -H hostname               Hostname to connect to\n",
      "\n"
     ]
    }
   ],
   "source": [
    "print(special) # magic happens..."
   ]
  },
  {
   "cell_type": "code",
   "execution_count": null,
   "metadata": {
    "colab": {
     "base_uri": "https://localhost:8080/",
     "height": 35
    },
    "executionInfo": {
     "elapsed": 4446,
     "status": "ok",
     "timestamp": 1594880420815,
     "user": {
      "displayName": "Clash Clans",
      "photoUrl": "",
      "userId": "00562530571182710236"
     },
     "user_tz": -330
    },
    "id": "FKneJFfpBbCe",
    "outputId": "43ed83e8-0213-4f6d-9f35-415899b546a1"
   },
   "outputs": [
    {
     "data": {
      "application/vnd.google.colaboratory.intrinsic": {
       "type": "string"
      },
      "text/plain": [
       "'unununium'"
      ]
     },
     "execution_count": 196,
     "metadata": {
      "tags": []
     },
     "output_type": "execute_result"
    }
   ],
   "source": [
    "3 * 'un' + 'ium'"
   ]
  },
  {
   "cell_type": "code",
   "execution_count": null,
   "metadata": {
    "colab": {
     "base_uri": "https://localhost:8080/",
     "height": 35
    },
    "executionInfo": {
     "elapsed": 4417,
     "status": "ok",
     "timestamp": 1594880420816,
     "user": {
      "displayName": "Clash Clans",
      "photoUrl": "",
      "userId": "00562530571182710236"
     },
     "user_tz": -330
    },
    "id": "n0nFuIX8BcWm",
    "outputId": "aac291d4-bfbd-45d0-a9ce-26c94121e8f3"
   },
   "outputs": [
    {
     "data": {
      "application/vnd.google.colaboratory.intrinsic": {
       "type": "string"
      },
      "text/plain": [
       "'Put several strings within parentheses to have them joined together.'"
      ]
     },
     "execution_count": 197,
     "metadata": {
      "tags": []
     },
     "output_type": "execute_result"
    }
   ],
   "source": [
    "text = ('Put several strings within parentheses '\n",
    "'to have them joined together.')\n",
    "text "
   ]
  },
  {
   "cell_type": "code",
   "execution_count": null,
   "metadata": {
    "colab": {
     "base_uri": "https://localhost:8080/",
     "height": 35
    },
    "executionInfo": {
     "elapsed": 4398,
     "status": "ok",
     "timestamp": 1594880420817,
     "user": {
      "displayName": "Clash Clans",
      "photoUrl": "",
      "userId": "00562530571182710236"
     },
     "user_tz": -330
    },
    "id": "Pe8w5kfOBlHr",
    "outputId": "35a43d64-fdd2-4c3d-a716-af7259a38969"
   },
   "outputs": [
    {
     "data": {
      "application/vnd.google.colaboratory.intrinsic": {
       "type": "string"
      },
      "text/plain": [
       "'Python'"
      ]
     },
     "execution_count": 198,
     "metadata": {
      "tags": []
     },
     "output_type": "execute_result"
    }
   ],
   "source": [
    "prefix = 'Py'\n",
    "prefix + 'thon'     # string concatenation"
   ]
  },
  {
   "cell_type": "code",
   "execution_count": 22,
   "metadata": {
    "colab": {
     "base_uri": "https://localhost:8080/",
     "height": 35
    },
    "executionInfo": {
     "elapsed": 16,
     "status": "ok",
     "timestamp": 1622957795294,
     "user": {
      "displayName": "Clash Clans",
      "photoUrl": "",
      "userId": "00562530571182710236"
     },
     "user_tz": -330
    },
    "id": "o0rNJ19H0jQD",
    "outputId": "905e810a-1ec6-459d-cb1b-c03585ab65ad"
   },
   "outputs": [
    {
     "data": {
      "application/vnd.google.colaboratory.intrinsic+json": {
       "type": "string"
      },
      "text/plain": [
       "'Magic happens'"
      ]
     },
     "execution_count": 22,
     "metadata": {
      "tags": []
     },
     "output_type": "execute_result"
    }
   ],
   "source": [
    "\"Magic \" \"happens\""
   ]
  },
  {
   "cell_type": "markdown",
   "metadata": {
    "id": "YqxDz068CKgT"
   },
   "source": [
    "### **How string is stored in python ?**\n",
    "```\n",
    "+---+---+---+---+---+---+\n",
    "| P | y | t | h | o | n |\n",
    "+---+---+---+---+---+---+\n",
    "  0   1   2   3   4   5   \n",
    " -6  -5  -4  -3  -2  -1\n",
    "```"
   ]
  },
  {
   "cell_type": "code",
   "execution_count": 54,
   "metadata": {
    "colab": {
     "base_uri": "https://localhost:8080/",
     "height": 35
    },
    "executionInfo": {
     "elapsed": 647,
     "status": "ok",
     "timestamp": 1622959606805,
     "user": {
      "displayName": "Clash Clans",
      "photoUrl": "",
      "userId": "00562530571182710236"
     },
     "user_tz": -330
    },
    "id": "WliVCeA9CvmX",
    "outputId": "d5620d7e-839c-4f6c-f21a-66b79bedda2c"
   },
   "outputs": [
    {
     "data": {
      "application/vnd.google.colaboratory.intrinsic+json": {
       "type": "string"
      },
      "text/plain": [
       "'P'"
      ]
     },
     "execution_count": 54,
     "metadata": {
      "tags": []
     },
     "output_type": "execute_result"
    }
   ],
   "source": [
    "word = 'Python'\n",
    "word[0]           # String indexing ! -> first character"
   ]
  },
  {
   "cell_type": "markdown",
   "metadata": {
    "id": "SNP3aJr01Kp2"
   },
   "source": [
    "### String indexing"
   ]
  },
  {
   "cell_type": "code",
   "execution_count": 55,
   "metadata": {
    "colab": {
     "base_uri": "https://localhost:8080/",
     "height": 35
    },
    "executionInfo": {
     "elapsed": 7,
     "status": "ok",
     "timestamp": 1622959609753,
     "user": {
      "displayName": "Clash Clans",
      "photoUrl": "",
      "userId": "00562530571182710236"
     },
     "user_tz": -330
    },
    "id": "U6zycGMNC3Ix",
    "outputId": "a0157d05-4e2d-45fa-a56f-1a58b1c43da1"
   },
   "outputs": [
    {
     "data": {
      "application/vnd.google.colaboratory.intrinsic+json": {
       "type": "string"
      },
      "text/plain": [
       "'n'"
      ]
     },
     "execution_count": 55,
     "metadata": {
      "tags": []
     },
     "output_type": "execute_result"
    }
   ],
   "source": [
    "word[5]  # character in position 5"
   ]
  },
  {
   "cell_type": "code",
   "execution_count": 56,
   "metadata": {
    "colab": {
     "base_uri": "https://localhost:8080/",
     "height": 35
    },
    "executionInfo": {
     "elapsed": 9,
     "status": "ok",
     "timestamp": 1622959610280,
     "user": {
      "displayName": "Clash Clans",
      "photoUrl": "",
      "userId": "00562530571182710236"
     },
     "user_tz": -330
    },
    "id": "sOT_DpenC6PG",
    "outputId": "77612415-2516-4acd-a431-8cd450cbf730"
   },
   "outputs": [
    {
     "data": {
      "application/vnd.google.colaboratory.intrinsic+json": {
       "type": "string"
      },
      "text/plain": [
       "'n'"
      ]
     },
     "execution_count": 56,
     "metadata": {
      "tags": []
     },
     "output_type": "execute_result"
    }
   ],
   "source": [
    "word[-1]  # last character"
   ]
  },
  {
   "cell_type": "code",
   "execution_count": null,
   "metadata": {
    "id": "73-C8M8a7tSE"
   },
   "outputs": [],
   "source": [
    "word[-6]  # first character"
   ]
  },
  {
   "cell_type": "code",
   "execution_count": 58,
   "metadata": {
    "colab": {
     "base_uri": "https://localhost:8080/",
     "height": 35
    },
    "executionInfo": {
     "elapsed": 8,
     "status": "ok",
     "timestamp": 1622959611066,
     "user": {
      "displayName": "Clash Clans",
      "photoUrl": "",
      "userId": "00562530571182710236"
     },
     "user_tz": -330
    },
    "id": "PrgqRChEDDwJ",
    "outputId": "d79c5183-424f-44ee-bb56-ae6d79cc74af"
   },
   "outputs": [
    {
     "data": {
      "application/vnd.google.colaboratory.intrinsic+json": {
       "type": "string"
      },
      "text/plain": [
       "'o'"
      ]
     },
     "execution_count": 58,
     "metadata": {
      "tags": []
     },
     "output_type": "execute_result"
    }
   ],
   "source": [
    "word[-2]  # second-last character"
   ]
  },
  {
   "cell_type": "markdown",
   "metadata": {
    "id": "y4bOZtoc1Vw5"
   },
   "source": [
    "### String slicing"
   ]
  },
  {
   "cell_type": "code",
   "execution_count": null,
   "metadata": {
    "colab": {
     "base_uri": "https://localhost:8080/",
     "height": 35
    },
    "executionInfo": {
     "elapsed": 4242,
     "status": "ok",
     "timestamp": 1594880420826,
     "user": {
      "displayName": "Clash Clans",
      "photoUrl": "",
      "userId": "00562530571182710236"
     },
     "user_tz": -330
    },
    "id": "Q42hSm3zDE43",
    "outputId": "20b07b59-bd25-491a-e569-a958e62cf714"
   },
   "outputs": [
    {
     "data": {
      "application/vnd.google.colaboratory.intrinsic": {
       "type": "string"
      },
      "text/plain": [
       "'Py'"
      ]
     },
     "execution_count": 204,
     "metadata": {
      "tags": []
     },
     "output_type": "execute_result"
    }
   ],
   "source": [
    "word[0:2]  # characters from position 0 (included) to 2 (excluded)"
   ]
  },
  {
   "cell_type": "code",
   "execution_count": null,
   "metadata": {
    "colab": {
     "base_uri": "https://localhost:8080/",
     "height": 35
    },
    "executionInfo": {
     "elapsed": 4219,
     "status": "ok",
     "timestamp": 1594880420827,
     "user": {
      "displayName": "Clash Clans",
      "photoUrl": "",
      "userId": "00562530571182710236"
     },
     "user_tz": -330
    },
    "id": "Ncrxq2jFDIh2",
    "outputId": "6078963d-4400-46a8-dae8-71fda419b8ce"
   },
   "outputs": [
    {
     "data": {
      "application/vnd.google.colaboratory.intrinsic": {
       "type": "string"
      },
      "text/plain": [
       "'Py'"
      ]
     },
     "execution_count": 205,
     "metadata": {
      "tags": []
     },
     "output_type": "execute_result"
    }
   ],
   "source": [
    "word[:2]   # character from the beginning to position 2 (excluded)"
   ]
  },
  {
   "cell_type": "code",
   "execution_count": null,
   "metadata": {
    "colab": {
     "base_uri": "https://localhost:8080/",
     "height": 35
    },
    "executionInfo": {
     "elapsed": 4198,
     "status": "ok",
     "timestamp": 1594880420829,
     "user": {
      "displayName": "Clash Clans",
      "photoUrl": "",
      "userId": "00562530571182710236"
     },
     "user_tz": -330
    },
    "id": "kIcNlqGVDLup",
    "outputId": "24ecaf82-6837-4778-e2a9-8e405d5e0949"
   },
   "outputs": [
    {
     "data": {
      "application/vnd.google.colaboratory.intrinsic": {
       "type": "string"
      },
      "text/plain": [
       "'on'"
      ]
     },
     "execution_count": 206,
     "metadata": {
      "tags": []
     },
     "output_type": "execute_result"
    }
   ],
   "source": [
    "word[4:]   # characters from position 4 (included) to the end"
   ]
  },
  {
   "cell_type": "code",
   "execution_count": null,
   "metadata": {
    "colab": {
     "base_uri": "https://localhost:8080/",
     "height": 35
    },
    "executionInfo": {
     "elapsed": 4176,
     "status": "ok",
     "timestamp": 1594880420830,
     "user": {
      "displayName": "Clash Clans",
      "photoUrl": "",
      "userId": "00562530571182710236"
     },
     "user_tz": -330
    },
    "id": "DEaySbpDDO92",
    "outputId": "21c3f74e-5eca-4be3-9e47-857d8488aa3e"
   },
   "outputs": [
    {
     "data": {
      "application/vnd.google.colaboratory.intrinsic": {
       "type": "string"
      },
      "text/plain": [
       "'on'"
      ]
     },
     "execution_count": 207,
     "metadata": {
      "tags": []
     },
     "output_type": "execute_result"
    }
   ],
   "source": [
    "word[-2:]  # characters from the second-last (included) to the end"
   ]
  },
  {
   "cell_type": "markdown",
   "metadata": {
    "id": "2VZuG8pf7TF7"
   },
   "source": [
    "Indexing out of index error!"
   ]
  },
  {
   "cell_type": "code",
   "execution_count": 59,
   "metadata": {
    "colab": {
     "base_uri": "https://localhost:8080/",
     "height": 164
    },
    "executionInfo": {
     "elapsed": 582,
     "status": "error",
     "timestamp": 1622959708981,
     "user": {
      "displayName": "Clash Clans",
      "photoUrl": "",
      "userId": "00562530571182710236"
     },
     "user_tz": -330
    },
    "id": "WnMadhEP7InL",
    "outputId": "e80ac263-aed0-48e3-8e3d-55afa081d9c5"
   },
   "outputs": [
    {
     "ename": "IndexError",
     "evalue": "ignored",
     "output_type": "error",
     "traceback": [
      "\u001b[0;31m---------------------------------------------------------------------------\u001b[0m",
      "\u001b[0;31mIndexError\u001b[0m                                Traceback (most recent call last)",
      "\u001b[0;32m<ipython-input-59-e2a70d26b809>\u001b[0m in \u001b[0;36m<module>\u001b[0;34m()\u001b[0m\n\u001b[0;32m----> 1\u001b[0;31m \u001b[0mword\u001b[0m\u001b[0;34m[\u001b[0m\u001b[0;36m6\u001b[0m\u001b[0;34m]\u001b[0m   \u001b[0;31m# error -> out of index\u001b[0m\u001b[0;34m\u001b[0m\u001b[0;34m\u001b[0m\u001b[0m\n\u001b[0m",
      "\u001b[0;31mIndexError\u001b[0m: string index out of range"
     ]
    }
   ],
   "source": [
    "#word[6]   # error -> out of index"
   ]
  },
  {
   "cell_type": "markdown",
   "metadata": {
    "id": "7NHifjVyDXmQ"
   },
   "source": [
    "However, out of range slice indexes are handled gracefully when used for slicing:"
   ]
  },
  {
   "cell_type": "code",
   "execution_count": 60,
   "metadata": {
    "colab": {
     "base_uri": "https://localhost:8080/",
     "height": 35
    },
    "executionInfo": {
     "elapsed": 382,
     "status": "ok",
     "timestamp": 1622959716621,
     "user": {
      "displayName": "Clash Clans",
      "photoUrl": "",
      "userId": "00562530571182710236"
     },
     "user_tz": -330
    },
    "id": "0G5lS-LRDZWe",
    "outputId": "3290068b-96d1-455e-9473-6cbb35a46dcc"
   },
   "outputs": [
    {
     "data": {
      "application/vnd.google.colaboratory.intrinsic+json": {
       "type": "string"
      },
      "text/plain": [
       "'on'"
      ]
     },
     "execution_count": 60,
     "metadata": {
      "tags": []
     },
     "output_type": "execute_result"
    }
   ],
   "source": [
    "word[4:42]"
   ]
  },
  {
   "cell_type": "code",
   "execution_count": 61,
   "metadata": {
    "colab": {
     "base_uri": "https://localhost:8080/",
     "height": 35
    },
    "executionInfo": {
     "elapsed": 467,
     "status": "ok",
     "timestamp": 1622959723935,
     "user": {
      "displayName": "Clash Clans",
      "photoUrl": "",
      "userId": "00562530571182710236"
     },
     "user_tz": -330
    },
    "id": "QZDJ7kwMDfwj",
    "outputId": "14bb624e-92a1-491a-c479-8271c1fec129"
   },
   "outputs": [
    {
     "data": {
      "application/vnd.google.colaboratory.intrinsic+json": {
       "type": "string"
      },
      "text/plain": [
       "'Cython'"
      ]
     },
     "execution_count": 61,
     "metadata": {
      "tags": []
     },
     "output_type": "execute_result"
    }
   ],
   "source": [
    "'C' + word[1:]"
   ]
  },
  {
   "cell_type": "code",
   "execution_count": 62,
   "metadata": {
    "colab": {
     "base_uri": "https://localhost:8080/"
    },
    "executionInfo": {
     "elapsed": 437,
     "status": "ok",
     "timestamp": 1622959727358,
     "user": {
      "displayName": "Clash Clans",
      "photoUrl": "",
      "userId": "00562530571182710236"
     },
     "user_tz": -330
    },
    "id": "X9pekEMmDg6f",
    "outputId": "d6c1ea27-3387-432a-ec38-374496ea28cf"
   },
   "outputs": [
    {
     "data": {
      "text/plain": [
       "34"
      ]
     },
     "execution_count": 62,
     "metadata": {
      "tags": []
     },
     "output_type": "execute_result"
    }
   ],
   "source": [
    "s = 'supercalifragilisticexpialidocious'\n",
    "len(s)"
   ]
  },
  {
   "cell_type": "markdown",
   "metadata": {
    "id": "3kG-GkgW1-aA"
   },
   "source": [
    "### Operations on strings!"
   ]
  },
  {
   "cell_type": "code",
   "execution_count": 38,
   "metadata": {
    "colab": {
     "base_uri": "https://localhost:8080/",
     "height": 35
    },
    "executionInfo": {
     "elapsed": 406,
     "status": "ok",
     "timestamp": 1622959093824,
     "user": {
      "displayName": "Clash Clans",
      "photoUrl": "",
      "userId": "00562530571182710236"
     },
     "user_tz": -330
    },
    "id": "7XIkisa32C0s",
    "outputId": "e275e877-2f9b-4b7a-ab96-79b8093f2c31"
   },
   "outputs": [
    {
     "data": {
      "application/vnd.google.colaboratory.intrinsic+json": {
       "type": "string"
      },
      "text/plain": [
       "'pyThon Programming'"
      ]
     },
     "execution_count": 38,
     "metadata": {
      "tags": []
     },
     "output_type": "execute_result"
    }
   ],
   "source": [
    "example_string = \"pyThon Programming\"\n",
    "example_string"
   ]
  },
  {
   "cell_type": "code",
   "execution_count": 39,
   "metadata": {
    "colab": {
     "base_uri": "https://localhost:8080/"
    },
    "executionInfo": {
     "elapsed": 399,
     "status": "ok",
     "timestamp": 1622959096202,
     "user": {
      "displayName": "Clash Clans",
      "photoUrl": "",
      "userId": "00562530571182710236"
     },
     "user_tz": -330
    },
    "id": "ORi8ELBM2uC-",
    "outputId": "32835e34-2c1b-4ae1-f835-4f8c5fe2720e"
   },
   "outputs": [
    {
     "data": {
      "text/plain": [
       "('Python programming', 'pyThon Programming')"
      ]
     },
     "execution_count": 39,
     "metadata": {
      "tags": []
     },
     "output_type": "execute_result"
    }
   ],
   "source": [
    "example_string.capitalize(),example_string"
   ]
  },
  {
   "cell_type": "code",
   "execution_count": 40,
   "metadata": {
    "colab": {
     "base_uri": "https://localhost:8080/"
    },
    "executionInfo": {
     "elapsed": 587,
     "status": "ok",
     "timestamp": 1622959104392,
     "user": {
      "displayName": "Clash Clans",
      "photoUrl": "",
      "userId": "00562530571182710236"
     },
     "user_tz": -330
    },
    "id": "eYarmfO420Y6",
    "outputId": "5e1c13c6-a4db-451a-a3c7-af79045a2b30"
   },
   "outputs": [
    {
     "data": {
      "text/plain": [
       "('python programming', 'pyThon Programming')"
      ]
     },
     "execution_count": 40,
     "metadata": {
      "tags": []
     },
     "output_type": "execute_result"
    }
   ],
   "source": [
    "example_string.casefold(),example_string"
   ]
  },
  {
   "cell_type": "code",
   "execution_count": 31,
   "metadata": {
    "colab": {
     "base_uri": "https://localhost:8080/"
    },
    "executionInfo": {
     "elapsed": 411,
     "status": "ok",
     "timestamp": 1622958449930,
     "user": {
      "displayName": "Clash Clans",
      "photoUrl": "",
      "userId": "00562530571182710236"
     },
     "user_tz": -330
    },
    "id": "J61G-Nd52_8G",
    "outputId": "472a9d3b-8767-4ade-c6d9-3b050cb3a8af"
   },
   "outputs": [
    {
     "data": {
      "text/plain": [
       "1"
      ]
     },
     "execution_count": 31,
     "metadata": {
      "tags": []
     },
     "output_type": "execute_result"
    }
   ],
   "source": [
    "example_string.count('p')   # \"pyThon Programming\""
   ]
  },
  {
   "cell_type": "code",
   "execution_count": 33,
   "metadata": {
    "colab": {
     "base_uri": "https://localhost:8080/"
    },
    "executionInfo": {
     "elapsed": 417,
     "status": "ok",
     "timestamp": 1622958532023,
     "user": {
      "displayName": "Clash Clans",
      "photoUrl": "",
      "userId": "00562530571182710236"
     },
     "user_tz": -330
    },
    "id": "VjfY9ZPm3RMB",
    "outputId": "ef8f76ab-6005-43e9-d39f-f94222edfc90"
   },
   "outputs": [
    {
     "data": {
      "text/plain": [
       "(True, False)"
      ]
     },
     "execution_count": 33,
     "metadata": {
      "tags": []
     },
     "output_type": "execute_result"
    }
   ],
   "source": [
    "example_string.endswith('g'), example_string.endswith('m')"
   ]
  },
  {
   "cell_type": "code",
   "execution_count": 37,
   "metadata": {
    "colab": {
     "base_uri": "https://localhost:8080/"
    },
    "executionInfo": {
     "elapsed": 745,
     "status": "ok",
     "timestamp": 1622959061397,
     "user": {
      "displayName": "Clash Clans",
      "photoUrl": "",
      "userId": "00562530571182710236"
     },
     "user_tz": -330
    },
    "id": "nAvVXoxC3fFQ",
    "outputId": "5f69748c-3d06-43f0-fe00-b8f038b3c7b7"
   },
   "outputs": [
    {
     "data": {
      "text/plain": [
       "(2, 13, 16)"
      ]
     },
     "execution_count": 37,
     "metadata": {
      "tags": []
     },
     "output_type": "execute_result"
    }
   ],
   "source": [
    "example_string.find('T'), example_string.find('m'),example_string.find('n',7)  # \"pyThon Programming\"\n",
    "#     p     y    T    h    o    n    P    r   o   g    r    a    m    m    i    n    g\n",
    "#     0     1    2    3    4    5    6    7   8   9   10   11   12   13   14   15   16\n",
    "#   -17   -16  -15  -14  -13  -12  -11  -10  -9  -8   -7   -6   -5   -4   -3   -2   -1"
   ]
  },
  {
   "cell_type": "code",
   "execution_count": 45,
   "metadata": {
    "colab": {
     "base_uri": "https://localhost:8080/"
    },
    "executionInfo": {
     "elapsed": 448,
     "status": "ok",
     "timestamp": 1622959294479,
     "user": {
      "displayName": "Clash Clans",
      "photoUrl": "",
      "userId": "00562530571182710236"
     },
     "user_tz": -330
    },
    "id": "2puxjfx25PSV",
    "outputId": "1bde772a-4389-4270-cba8-ba50ba6e47c1"
   },
   "outputs": [
    {
     "data": {
      "text/plain": [
       "(False, False, False)"
      ]
     },
     "execution_count": 45,
     "metadata": {
      "tags": []
     },
     "output_type": "execute_result"
    }
   ],
   "source": [
    "example_string.islower(),example_string.isupper(),example_string.isdigit()"
   ]
  },
  {
   "cell_type": "code",
   "execution_count": 46,
   "metadata": {
    "colab": {
     "base_uri": "https://localhost:8080/"
    },
    "executionInfo": {
     "elapsed": 519,
     "status": "ok",
     "timestamp": 1622959304070,
     "user": {
      "displayName": "Clash Clans",
      "photoUrl": "",
      "userId": "00562530571182710236"
     },
     "user_tz": -330
    },
    "id": "AckCxweT53KG",
    "outputId": "1ca2a397-cc09-47a1-9394-03be00511f35"
   },
   "outputs": [
    {
     "data": {
      "text/plain": [
       "(True, True, True)"
      ]
     },
     "execution_count": 46,
     "metadata": {
      "tags": []
     },
     "output_type": "execute_result"
    }
   ],
   "source": [
    "'lower'.islower(),'UPPER'.isupper(),'12345'.isdigit()"
   ]
  },
  {
   "cell_type": "markdown",
   "metadata": {
    "id": "J3gon7UU6fCr"
   },
   "source": [
    "**string.split()**"
   ]
  },
  {
   "cell_type": "code",
   "execution_count": 48,
   "metadata": {
    "colab": {
     "base_uri": "https://localhost:8080/"
    },
    "executionInfo": {
     "elapsed": 731,
     "status": "ok",
     "timestamp": 1622959352723,
     "user": {
      "displayName": "Clash Clans",
      "photoUrl": "",
      "userId": "00562530571182710236"
     },
     "user_tz": -330
    },
    "id": "altUCI5u6d37",
    "outputId": "ae08623d-1830-4793-adb2-69b060ae6181"
   },
   "outputs": [
    {
     "data": {
      "text/plain": [
       "<method 'split' of 'str' objects>"
      ]
     },
     "execution_count": 48,
     "metadata": {
      "tags": []
     },
     "output_type": "execute_result"
    }
   ],
   "source": [
    "str.split"
   ]
  },
  {
   "cell_type": "code",
   "execution_count": 49,
   "metadata": {
    "colab": {
     "base_uri": "https://localhost:8080/"
    },
    "executionInfo": {
     "elapsed": 419,
     "status": "ok",
     "timestamp": 1622959412650,
     "user": {
      "displayName": "Clash Clans",
      "photoUrl": "",
      "userId": "00562530571182710236"
     },
     "user_tz": -330
    },
    "id": "FXOugkMl6nq_",
    "outputId": "7410a5cb-8d11-4885-bbea-4f9d33293d7d"
   },
   "outputs": [
    {
     "data": {
      "text/plain": [
       "['example', 'mail.com']"
      ]
     },
     "execution_count": 49,
     "metadata": {
      "tags": []
     },
     "output_type": "execute_result"
    }
   ],
   "source": [
    "\"example@mail.com\".split(\"@\")"
   ]
  },
  {
   "cell_type": "code",
   "execution_count": 51,
   "metadata": {
    "colab": {
     "base_uri": "https://localhost:8080/"
    },
    "executionInfo": {
     "elapsed": 646,
     "status": "ok",
     "timestamp": 1622959451270,
     "user": {
      "displayName": "Clash Clans",
      "photoUrl": "",
      "userId": "00562530571182710236"
     },
     "user_tz": -330
    },
    "id": "rSrBEPW-62ma",
    "outputId": "340e5c43-6789-4efb-edf9-b53291c2f1df"
   },
   "outputs": [
    {
     "data": {
      "text/plain": [
       "['mail', 'com']"
      ]
     },
     "execution_count": 51,
     "metadata": {
      "tags": []
     },
     "output_type": "execute_result"
    }
   ],
   "source": [
    "\"example@mail.com\".split(\"@\")[-1].split('.')"
   ]
  },
  {
   "cell_type": "code",
   "execution_count": 52,
   "metadata": {
    "colab": {
     "base_uri": "https://localhost:8080/",
     "height": 35
    },
    "executionInfo": {
     "elapsed": 12,
     "status": "ok",
     "timestamp": 1622959460604,
     "user": {
      "displayName": "Clash Clans",
      "photoUrl": "",
      "userId": "00562530571182710236"
     },
     "user_tz": -330
    },
    "id": "zpaSIdo469qA",
    "outputId": "a9a07baa-2d7e-4bb3-fca6-636c5086869f"
   },
   "outputs": [
    {
     "data": {
      "application/vnd.google.colaboratory.intrinsic+json": {
       "type": "string"
      },
      "text/plain": [
       "'mail'"
      ]
     },
     "execution_count": 52,
     "metadata": {
      "tags": []
     },
     "output_type": "execute_result"
    }
   ],
   "source": [
    "\"example@mail.com\".split(\"@\")[-1].split('.')[0]"
   ]
  },
  {
   "cell_type": "markdown",
   "metadata": {
    "id": "y4zz5a-bFaoq"
   },
   "source": [
    "#4. [Lists](https://docs.python.org/3.6/tutorial/introduction.html#lists)\n",
    "\n",
    "Python knows a number of compound **data types**, used to group together other values. The most versatile is the list, which can be written as a list of comma-separated values (items) between square brackets. Lists might contain items of different types, but usually the items all have the same type."
   ]
  },
  {
   "cell_type": "code",
   "execution_count": 1,
   "metadata": {
    "colab": {
     "base_uri": "https://localhost:8080/"
    },
    "executionInfo": {
     "elapsed": 1590,
     "status": "ok",
     "timestamp": 1622960769708,
     "user": {
      "displayName": "Clash Clans",
      "photoUrl": "",
      "userId": "00562530571182710236"
     },
     "user_tz": -330
    },
    "id": "bC4At6p-Fo_m",
    "outputId": "04fa5835-1ac5-4df0-94ad-35b53d82eeab"
   },
   "outputs": [
    {
     "name": "stdout",
     "output_type": "stream",
     "text": [
      "[1, 4, 9, 16, 25]\n",
      "1 4 9 16 25\n"
     ]
    }
   ],
   "source": [
    "squares = [1, 4, 9, 16, 25]\n",
    "print(squares)\n",
    "print(*squares)           # a,b,c,d,e=*squares"
   ]
  },
  {
   "cell_type": "code",
   "execution_count": 2,
   "metadata": {
    "colab": {
     "base_uri": "https://localhost:8080/"
    },
    "executionInfo": {
     "elapsed": 40,
     "status": "ok",
     "timestamp": 1622960771608,
     "user": {
      "displayName": "Clash Clans",
      "photoUrl": "",
      "userId": "00562530571182710236"
     },
     "user_tz": -330
    },
    "id": "zxukFlTgF2Hb",
    "outputId": "668ee3d2-b543-4d8b-ed0d-8cc5ea91c109"
   },
   "outputs": [
    {
     "data": {
      "text/plain": [
       "1"
      ]
     },
     "execution_count": 2,
     "metadata": {
      "tags": []
     },
     "output_type": "execute_result"
    }
   ],
   "source": [
    "squares[0]  # indexing returns the item"
   ]
  },
  {
   "cell_type": "code",
   "execution_count": 3,
   "metadata": {
    "colab": {
     "base_uri": "https://localhost:8080/"
    },
    "executionInfo": {
     "elapsed": 42,
     "status": "ok",
     "timestamp": 1622960771613,
     "user": {
      "displayName": "Clash Clans",
      "photoUrl": "",
      "userId": "00562530571182710236"
     },
     "user_tz": -330
    },
    "id": "mjMyZQSYF6db",
    "outputId": "e69bce08-42a0-4993-b263-52987260accf"
   },
   "outputs": [
    {
     "data": {
      "text/plain": [
       "[9, 16, 25]"
      ]
     },
     "execution_count": 3,
     "metadata": {
      "tags": []
     },
     "output_type": "execute_result"
    }
   ],
   "source": [
    "squares[-3:]  # slicing returns a new list"
   ]
  },
  {
   "cell_type": "markdown",
   "metadata": {
    "id": "BGATivWPGApE"
   },
   "source": [
    "All slice operations return a new list containing the requested elements. This means that the following slice returns a new (shallow) copy of the list:"
   ]
  },
  {
   "cell_type": "code",
   "execution_count": 4,
   "metadata": {
    "colab": {
     "base_uri": "https://localhost:8080/"
    },
    "executionInfo": {
     "elapsed": 44,
     "status": "ok",
     "timestamp": 1622960771616,
     "user": {
      "displayName": "Clash Clans",
      "photoUrl": "",
      "userId": "00562530571182710236"
     },
     "user_tz": -330
    },
    "id": "tOrUS0iYF-Sn",
    "outputId": "8bd7652d-b710-4f55-9351-4db364ca1350"
   },
   "outputs": [
    {
     "data": {
      "text/plain": [
       "[1, 4, 9, 16, 25]"
      ]
     },
     "execution_count": 4,
     "metadata": {
      "tags": []
     },
     "output_type": "execute_result"
    }
   ],
   "source": [
    "squares[:]"
   ]
  },
  {
   "cell_type": "code",
   "execution_count": 5,
   "metadata": {
    "colab": {
     "base_uri": "https://localhost:8080/"
    },
    "executionInfo": {
     "elapsed": 46,
     "status": "ok",
     "timestamp": 1622960771619,
     "user": {
      "displayName": "Clash Clans",
      "photoUrl": "",
      "userId": "00562530571182710236"
     },
     "user_tz": -330
    },
    "id": "_jhhe9lqGFIr",
    "outputId": "c407e80f-b9b6-41ac-84a4-f6f18df482fa"
   },
   "outputs": [
    {
     "data": {
      "text/plain": [
       "[1, 4, 9, 16, 25, 36, 49, 64, 81, 100]"
      ]
     },
     "execution_count": 5,
     "metadata": {
      "tags": []
     },
     "output_type": "execute_result"
    }
   ],
   "source": [
    "# Lists also support operations like concatenation\n",
    "squares + [36, 49, 64, 81, 100]"
   ]
  },
  {
   "cell_type": "markdown",
   "metadata": {
    "id": "4musMlKgGjFv"
   },
   "source": [
    "Unlike strings, which are immutable, lists are a mutable type, i.e. it is possible to change their content:"
   ]
  },
  {
   "cell_type": "code",
   "execution_count": 6,
   "metadata": {
    "colab": {
     "base_uri": "https://localhost:8080/"
    },
    "executionInfo": {
     "elapsed": 46,
     "status": "ok",
     "timestamp": 1622960771621,
     "user": {
      "displayName": "Clash Clans",
      "photoUrl": "",
      "userId": "00562530571182710236"
     },
     "user_tz": -330
    },
    "id": "8KFLh4AAGePo",
    "outputId": "d7399bc1-d996-41bd-9b01-c94ac60c2b7a"
   },
   "outputs": [
    {
     "data": {
      "text/plain": [
       "[1, 8, 27, 65, 125]"
      ]
     },
     "execution_count": 6,
     "metadata": {
      "tags": []
     },
     "output_type": "execute_result"
    }
   ],
   "source": [
    "cubes = [1, 8, 27, 65, 125]  # something's wrong here\n",
    "cubes"
   ]
  },
  {
   "cell_type": "code",
   "execution_count": 7,
   "metadata": {
    "colab": {
     "base_uri": "https://localhost:8080/"
    },
    "executionInfo": {
     "elapsed": 48,
     "status": "ok",
     "timestamp": 1622960771624,
     "user": {
      "displayName": "Clash Clans",
      "photoUrl": "",
      "userId": "00562530571182710236"
     },
     "user_tz": -330
    },
    "id": "yKV3Lx9lGqfq",
    "outputId": "7e9bb5c8-d06f-412b-cf90-07865435a4ec"
   },
   "outputs": [
    {
     "data": {
      "text/plain": [
       "[1, 8, 27, 64, 125]"
      ]
     },
     "execution_count": 7,
     "metadata": {
      "tags": []
     },
     "output_type": "execute_result"
    }
   ],
   "source": [
    "cubes[3] = 64  # replace the wrong value\n",
    "cubes"
   ]
  },
  {
   "cell_type": "code",
   "execution_count": 8,
   "metadata": {
    "colab": {
     "base_uri": "https://localhost:8080/"
    },
    "executionInfo": {
     "elapsed": 50,
     "status": "ok",
     "timestamp": 1622960771628,
     "user": {
      "displayName": "Clash Clans",
      "photoUrl": "",
      "userId": "00562530571182710236"
     },
     "user_tz": -330
    },
    "id": "t93BU2-jGyBx",
    "outputId": "74aea788-d919-4b6d-dfdc-383883d0a2e4"
   },
   "outputs": [
    {
     "data": {
      "text/plain": [
       "['a', 'b', 'c', 'd', 'e', 'f', 'g']"
      ]
     },
     "execution_count": 8,
     "metadata": {
      "tags": []
     },
     "output_type": "execute_result"
    }
   ],
   "source": [
    "letters = list('abcdefg')\n",
    "letters"
   ]
  },
  {
   "cell_type": "code",
   "execution_count": 9,
   "metadata": {
    "colab": {
     "base_uri": "https://localhost:8080/"
    },
    "executionInfo": {
     "elapsed": 50,
     "status": "ok",
     "timestamp": 1622960771629,
     "user": {
      "displayName": "Clash Clans",
      "photoUrl": "",
      "userId": "00562530571182710236"
     },
     "user_tz": -330
    },
    "id": "VqI11B_uG4pm",
    "outputId": "048ef94b-fa46-40f2-8a14-0a14a615ea30"
   },
   "outputs": [
    {
     "data": {
      "text/plain": [
       "7"
      ]
     },
     "execution_count": 9,
     "metadata": {
      "tags": []
     },
     "output_type": "execute_result"
    }
   ],
   "source": [
    "len(letters)"
   ]
  },
  {
   "cell_type": "code",
   "execution_count": 10,
   "metadata": {
    "colab": {
     "base_uri": "https://localhost:8080/"
    },
    "executionInfo": {
     "elapsed": 50,
     "status": "ok",
     "timestamp": 1622960771631,
     "user": {
      "displayName": "Clash Clans",
      "photoUrl": "",
      "userId": "00562530571182710236"
     },
     "user_tz": -330
    },
    "id": "E84TeTUIG8Pu",
    "outputId": "11331976-9b1e-435e-f86d-c9904e474c3b"
   },
   "outputs": [
    {
     "data": {
      "text/plain": [
       "['a', 'b', 'C', 'D', 'E', 'f', 'g']"
      ]
     },
     "execution_count": 10,
     "metadata": {
      "tags": []
     },
     "output_type": "execute_result"
    }
   ],
   "source": [
    "# replace some values\n",
    "letters[2:5] = ['C', 'D', 'E']\n",
    "letters"
   ]
  },
  {
   "cell_type": "code",
   "execution_count": 11,
   "metadata": {
    "colab": {
     "base_uri": "https://localhost:8080/"
    },
    "executionInfo": {
     "elapsed": 51,
     "status": "ok",
     "timestamp": 1622960771633,
     "user": {
      "displayName": "Clash Clans",
      "photoUrl": "",
      "userId": "00562530571182710236"
     },
     "user_tz": -330
    },
    "id": "d9rZFgKAHKJH",
    "outputId": "75a3f8af-989b-41a2-bd99-975fa9687cb4"
   },
   "outputs": [
    {
     "data": {
      "text/plain": [
       "['a', 'b', 'f', 'g']"
      ]
     },
     "execution_count": 11,
     "metadata": {
      "tags": []
     },
     "output_type": "execute_result"
    }
   ],
   "source": [
    "# now remove them\n",
    "letters[2:5] = []\n",
    "letters"
   ]
  },
  {
   "cell_type": "code",
   "execution_count": 12,
   "metadata": {
    "colab": {
     "base_uri": "https://localhost:8080/"
    },
    "executionInfo": {
     "elapsed": 51,
     "status": "ok",
     "timestamp": 1622960771635,
     "user": {
      "displayName": "Clash Clans",
      "photoUrl": "",
      "userId": "00562530571182710236"
     },
     "user_tz": -330
    },
    "id": "QTRV2t4pH_4J",
    "outputId": "e9a9f5db-3fd8-41cd-ed95-b58596d2d36e"
   },
   "outputs": [
    {
     "data": {
      "text/plain": [
       "['b', 'f', 'g']"
      ]
     },
     "execution_count": 12,
     "metadata": {
      "tags": []
     },
     "output_type": "execute_result"
    }
   ],
   "source": [
    "del letters[0]\n",
    "letters"
   ]
  },
  {
   "cell_type": "code",
   "execution_count": 13,
   "metadata": {
    "colab": {
     "base_uri": "https://localhost:8080/"
    },
    "executionInfo": {
     "elapsed": 50,
     "status": "ok",
     "timestamp": 1622960771636,
     "user": {
      "displayName": "Clash Clans",
      "photoUrl": "",
      "userId": "00562530571182710236"
     },
     "user_tz": -330
    },
    "id": "7O5vjMRNH4fd",
    "outputId": "dffb1fe7-8043-424d-9b7d-e9c9f9dc88ac"
   },
   "outputs": [
    {
     "data": {
      "text/plain": [
       "[]"
      ]
     },
     "execution_count": 13,
     "metadata": {
      "tags": []
     },
     "output_type": "execute_result"
    }
   ],
   "source": [
    "# clear the list by replacing all the elements with an empty list\n",
    "letters[:] = []\n",
    "letters"
   ]
  },
  {
   "cell_type": "markdown",
   "metadata": {
    "id": "J7rRTFzDINt7"
   },
   "source": [
    "It is possible to nest lists (create lists containing other lists), for example:"
   ]
  },
  {
   "cell_type": "code",
   "execution_count": 14,
   "metadata": {
    "colab": {
     "base_uri": "https://localhost:8080/"
    },
    "executionInfo": {
     "elapsed": 50,
     "status": "ok",
     "timestamp": 1622960771637,
     "user": {
      "displayName": "Clash Clans",
      "photoUrl": "",
      "userId": "00562530571182710236"
     },
     "user_tz": -330
    },
    "id": "8O4fr8MUH8sb",
    "outputId": "c1eb5863-0261-49ae-bcfd-18c9b861b91c"
   },
   "outputs": [
    {
     "data": {
      "text/plain": [
       "[['a', 'b', 'c'], [1, 2, 3]]"
      ]
     },
     "execution_count": 14,
     "metadata": {
      "tags": []
     },
     "output_type": "execute_result"
    }
   ],
   "source": [
    "a = ['a', 'b', 'c']\n",
    "n = [1, 2, 3]\n",
    "x = [a, n]\n",
    "x"
   ]
  },
  {
   "cell_type": "code",
   "execution_count": 15,
   "metadata": {
    "colab": {
     "base_uri": "https://localhost:8080/"
    },
    "executionInfo": {
     "elapsed": 49,
     "status": "ok",
     "timestamp": 1622960771639,
     "user": {
      "displayName": "Clash Clans",
      "photoUrl": "",
      "userId": "00562530571182710236"
     },
     "user_tz": -330
    },
    "id": "nuoBb83zIY8W",
    "outputId": "d38cfeab-a927-4a91-e5ca-8855a6413316"
   },
   "outputs": [
    {
     "data": {
      "text/plain": [
       "['a', 'b', 'c']"
      ]
     },
     "execution_count": 15,
     "metadata": {
      "tags": []
     },
     "output_type": "execute_result"
    }
   ],
   "source": [
    "x[0]"
   ]
  },
  {
   "cell_type": "code",
   "execution_count": 16,
   "metadata": {
    "colab": {
     "base_uri": "https://localhost:8080/"
    },
    "executionInfo": {
     "elapsed": 48,
     "status": "ok",
     "timestamp": 1622960771640,
     "user": {
      "displayName": "Clash Clans",
      "photoUrl": "",
      "userId": "00562530571182710236"
     },
     "user_tz": -330
    },
    "id": "fqRFEhdCIWWT",
    "outputId": "90a599a6-cad2-44c3-9dea-f87a54ed64c7"
   },
   "outputs": [
    {
     "data": {
      "text/plain": [
       "list"
      ]
     },
     "execution_count": 16,
     "metadata": {
      "tags": []
     },
     "output_type": "execute_result"
    }
   ],
   "source": [
    "type(x[0])"
   ]
  },
  {
   "cell_type": "code",
   "execution_count": 17,
   "metadata": {
    "colab": {
     "base_uri": "https://localhost:8080/",
     "height": 35
    },
    "executionInfo": {
     "elapsed": 48,
     "status": "ok",
     "timestamp": 1622960771641,
     "user": {
      "displayName": "Clash Clans",
      "photoUrl": "",
      "userId": "00562530571182710236"
     },
     "user_tz": -330
    },
    "id": "Z8hDykZOIb3w",
    "outputId": "9e0945a8-a4e8-407f-d86f-7b8093b4e874"
   },
   "outputs": [
    {
     "data": {
      "application/vnd.google.colaboratory.intrinsic+json": {
       "type": "string"
      },
      "text/plain": [
       "'b'"
      ]
     },
     "execution_count": 17,
     "metadata": {
      "tags": []
     },
     "output_type": "execute_result"
    }
   ],
   "source": [
    "x[0][1]"
   ]
  },
  {
   "cell_type": "code",
   "execution_count": null,
   "metadata": {
    "colab": {
     "base_uri": "https://localhost:8080/",
     "height": 34
    },
    "executionInfo": {
     "elapsed": 4370,
     "status": "ok",
     "timestamp": 1594880421518,
     "user": {
      "displayName": "Clash Clans",
      "photoUrl": "",
      "userId": "00562530571182710236"
     },
     "user_tz": -330
    },
    "id": "es4D7CT8PwdS",
    "outputId": "17c1d5af-2d3f-46c2-fa3c-c781ee45b9a6"
   },
   "outputs": [
    {
     "data": {
      "text/plain": [
       "str"
      ]
     },
     "execution_count": 234,
     "metadata": {
      "tags": []
     },
     "output_type": "execute_result"
    }
   ],
   "source": [
    "a = str(True)\n",
    "type(a)"
   ]
  },
  {
   "cell_type": "markdown",
   "metadata": {
    "id": "gv4Wi8RBQh0A"
   },
   "source": [
    "**Get User Input ---**"
   ]
  },
  {
   "cell_type": "code",
   "execution_count": null,
   "metadata": {
    "colab": {
     "base_uri": "https://localhost:8080/",
     "height": 51
    },
    "executionInfo": {
     "elapsed": 18224,
     "status": "ok",
     "timestamp": 1594880435390,
     "user": {
      "displayName": "Clash Clans",
      "photoUrl": "",
      "userId": "00562530571182710236"
     },
     "user_tz": -330
    },
    "id": "-nIfZQVFP2EB",
    "outputId": "28233c79-bd1a-4893-cabc-63fabdbd34fe"
   },
   "outputs": [
    {
     "name": "stdout",
     "output_type": "stream",
     "text": [
      "Hello\n",
      "Hello\n"
     ]
    }
   ],
   "source": [
    "a = input()\n",
    "print(a)"
   ]
  },
  {
   "cell_type": "code",
   "execution_count": null,
   "metadata": {
    "colab": {
     "base_uri": "https://localhost:8080/",
     "height": 68
    },
    "executionInfo": {
     "elapsed": 25883,
     "status": "ok",
     "timestamp": 1594880443069,
     "user": {
      "displayName": "Clash Clans",
      "photoUrl": "",
      "userId": "00562530571182710236"
     },
     "user_tz": -330
    },
    "id": "Rm6GF6H5QNcb",
    "outputId": "77f47313-cd95-4f05-8d95-486816d5acf4"
   },
   "outputs": [
    {
     "name": "stdout",
     "output_type": "stream",
     "text": [
      "May I know your name?\n",
      "MegaMachine\n",
      "Hello! MegaMachine\n"
     ]
    }
   ],
   "source": [
    "print('May I know your name?')\n",
    "print('Hello!',input())"
   ]
  },
  {
   "cell_type": "code",
   "execution_count": null,
   "metadata": {
    "colab": {
     "base_uri": "https://localhost:8080/",
     "height": 51
    },
    "executionInfo": {
     "elapsed": 31949,
     "status": "ok",
     "timestamp": 1594880449154,
     "user": {
      "displayName": "Clash Clans",
      "photoUrl": "",
      "userId": "00562530571182710236"
     },
     "user_tz": -330
    },
    "id": "CmVSDS8UQs_b",
    "outputId": "52dda64b-d789-4135-de48-4996cb2d0f13"
   },
   "outputs": [
    {
     "name": "stdout",
     "output_type": "stream",
     "text": [
      "May I know your name? MegaMachine\n",
      "Hello! MegaMachine\n"
     ]
    }
   ],
   "source": [
    "print('Hello!',input('May I know your name? '))"
   ]
  },
  {
   "cell_type": "code",
   "execution_count": null,
   "metadata": {
    "colab": {
     "base_uri": "https://localhost:8080/",
     "height": 51
    },
    "executionInfo": {
     "elapsed": 39048,
     "status": "ok",
     "timestamp": 1594880456272,
     "user": {
      "displayName": "Clash Clans",
      "photoUrl": "",
      "userId": "00562530571182710236"
     },
     "user_tz": -330
    },
    "id": "olYOktV5Qfxg",
    "outputId": "fd0085e1-19d1-46d7-e8db-e2de549d6852"
   },
   "outputs": [
    {
     "name": "stdout",
     "output_type": "stream",
     "text": [
      "1.3672\n"
     ]
    },
    {
     "data": {
      "text/plain": [
       "str"
      ]
     },
     "execution_count": 238,
     "metadata": {
      "tags": []
     },
     "output_type": "execute_result"
    }
   ],
   "source": [
    "variable = input()\n",
    "type(variable)"
   ]
  },
  {
   "cell_type": "code",
   "execution_count": 43,
   "metadata": {
    "colab": {
     "base_uri": "https://localhost:8080/"
    },
    "executionInfo": {
     "elapsed": 655,
     "status": "ok",
     "timestamp": 1622965179845,
     "user": {
      "displayName": "Clash Clans",
      "photoUrl": "",
      "userId": "00562530571182710236"
     },
     "user_tz": -330
    },
    "id": "-pDuDgPDQUQd",
    "outputId": "b71b99f3-8cbb-41e0-a68c-cafc5ab8faae"
   },
   "outputs": [
    {
     "data": {
      "text/plain": [
       "1"
      ]
     },
     "execution_count": 43,
     "metadata": {
      "tags": []
     },
     "output_type": "execute_result"
    }
   ],
   "source": [
    "x,y=5,-6\n",
    "eval('x+2+y')   # 5+2-6"
   ]
  },
  {
   "cell_type": "markdown",
   "metadata": {
    "id": "Dv25RjLNRHGk"
   },
   "source": [
    "#6. Build a simple calculator "
   ]
  },
  {
   "cell_type": "code",
   "execution_count": null,
   "metadata": {
    "colab": {
     "base_uri": "https://localhost:8080/",
     "height": 68
    },
    "executionInfo": {
     "elapsed": 12660,
     "status": "ok",
     "timestamp": 1594880488834,
     "user": {
      "displayName": "Clash Clans",
      "photoUrl": "",
      "userId": "00562530571182710236"
     },
     "user_tz": -330
    },
    "id": "tENTATnsQ6qY",
    "outputId": "b36db0a1-0c10-458a-89bb-5789497a0ea3"
   },
   "outputs": [
    {
     "name": "stdout",
     "output_type": "stream",
     "text": [
      "Enter the first number: 3.475\n",
      "Enter the second number: 4.58923\n",
      "3.475 + 4.58923 = 8.06423\n"
     ]
    }
   ],
   "source": [
    "# Read the first number\n",
    "x = float(input('Enter the first number: '))\n",
    "\n",
    "# Get the second number\n",
    "y = float(input('Enter the second number: '))\n",
    "\n",
    "# Add them together\n",
    "result = x + y\n",
    "\n",
    "# Display the results\n",
    "print(str(x) + \" + \" + str(y) + \" = \" + str(result))"
   ]
  },
  {
   "cell_type": "markdown",
   "metadata": {
    "id": "Rn-fgFWXRUUE"
   },
   "source": [
    "#7. First Steps Towards Programming --"
   ]
  },
  {
   "cell_type": "code",
   "execution_count": null,
   "metadata": {
    "colab": {
     "base_uri": "https://localhost:8080/",
     "height": 119
    },
    "executionInfo": {
     "elapsed": 1227,
     "status": "ok",
     "timestamp": 1594880500990,
     "user": {
      "displayName": "Clash Clans",
      "photoUrl": "",
      "userId": "00562530571182710236"
     },
     "user_tz": -330
    },
    "id": "9FCjZW-hRX0u",
    "outputId": "a3e27362-6602-4ffd-a5b6-5226b655f458"
   },
   "outputs": [
    {
     "name": "stdout",
     "output_type": "stream",
     "text": [
      "1\n",
      "1\n",
      "2\n",
      "3\n",
      "5\n",
      "8\n"
     ]
    }
   ],
   "source": [
    "# Fibonacci series:\n",
    "# the sum of two elements defines the next\n",
    "a, b = 0, 1\n",
    "while b < 10:\n",
    "  print(b)\n",
    "  a, b = b, a+b"
   ]
  },
  {
   "cell_type": "markdown",
   "metadata": {
    "id": "Lcr-OUfAA6GE"
   },
   "source": [
    "#8. [More Control Flow Tools](https://docs.python.org/3.8/tutorial/controlflow.html)"
   ]
  },
  {
   "cell_type": "markdown",
   "metadata": {
    "id": "8X0JZFUVBQnp"
   },
   "source": [
    "### if Statements"
   ]
  },
  {
   "cell_type": "code",
   "execution_count": 19,
   "metadata": {
    "colab": {
     "base_uri": "https://localhost:8080/"
    },
    "executionInfo": {
     "elapsed": 576,
     "status": "ok",
     "timestamp": 1622961387775,
     "user": {
      "displayName": "Clash Clans",
      "photoUrl": "",
      "userId": "00562530571182710236"
     },
     "user_tz": -330
    },
    "id": "4iyDqupLAwqi",
    "outputId": "81fced24-4897-4d14-9c32-963dc1edd1d8"
   },
   "outputs": [
    {
     "name": "stdout",
     "output_type": "stream",
     "text": [
      "Yes, -4 is less than 5\n"
     ]
    }
   ],
   "source": [
    "if (-4<5): # <- boolean condition  \n",
    "  print(\"Yes, -4 is less than 5\")     # <---- One tab space "
   ]
  },
  {
   "cell_type": "code",
   "execution_count": 22,
   "metadata": {
    "colab": {
     "base_uri": "https://localhost:8080/"
    },
    "executionInfo": {
     "elapsed": 575,
     "status": "ok",
     "timestamp": 1622961702894,
     "user": {
      "displayName": "Clash Clans",
      "photoUrl": "",
      "userId": "00562530571182710236"
     },
     "user_tz": -330
    },
    "id": "D4rmK_K4CKq6",
    "outputId": "94185a7a-8f1c-41fb-e2e8-fb543cd14ff7"
   },
   "outputs": [
    {
     "name": "stdout",
     "output_type": "stream",
     "text": [
      "condition value -> True\n",
      "I will work\n"
     ]
    }
   ],
   "source": [
    "condition = 5>-1\n",
    "print(\"condition value ->\",condition)\n",
    "if (condition): # Output of bool operation  -> True or false \n",
    "  print(\"I will work\")"
   ]
  },
  {
   "cell_type": "code",
   "execution_count": 24,
   "metadata": {
    "executionInfo": {
     "elapsed": 818,
     "status": "ok",
     "timestamp": 1622961837854,
     "user": {
      "displayName": "Clash Clans",
      "photoUrl": "",
      "userId": "00562530571182710236"
     },
     "user_tz": -330
    },
    "id": "0t7Bvy0qCKpL"
   },
   "outputs": [],
   "source": [
    "if (0):         # As 0 == int(False)\n",
    "  print('I will never work')"
   ]
  },
  {
   "cell_type": "markdown",
   "metadata": {
    "id": "jQoqf7EBEILq"
   },
   "source": [
    "### if-elif-else Statements"
   ]
  },
  {
   "cell_type": "code",
   "execution_count": 26,
   "metadata": {
    "colab": {
     "base_uri": "https://localhost:8080/"
    },
    "executionInfo": {
     "elapsed": 6664,
     "status": "ok",
     "timestamp": 1622962093627,
     "user": {
      "displayName": "Clash Clans",
      "photoUrl": "",
      "userId": "00562530571182710236"
     },
     "user_tz": -330
    },
    "id": "2zAG-6h8EGTc",
    "outputId": "b0aea306-2389-4c68-c373-e292abe00277"
   },
   "outputs": [
    {
     "name": "stdout",
     "output_type": "stream",
     "text": [
      "Please enter an integer: -9\n",
      "Negative changed to zero -> 0\n"
     ]
    }
   ],
   "source": [
    "x = int(input(\"Please enter an integer: \"))\n",
    "if x < 0:\n",
    "  x = 0\n",
    "  print('Negative changed to zero ->',x)\n",
    "elif x == 0: \n",
    "  print('Zero')\n",
    "elif x == 1: print('Single')          # Also this way, when only one Statements \n",
    "else: print('More')"
   ]
  },
  {
   "cell_type": "markdown",
   "metadata": {
    "id": "RqhcYJ_eFMr0"
   },
   "source": [
    "### for statements"
   ]
  },
  {
   "cell_type": "code",
   "execution_count": 27,
   "metadata": {
    "colab": {
     "base_uri": "https://localhost:8080/"
    },
    "executionInfo": {
     "elapsed": 600,
     "status": "ok",
     "timestamp": 1622962227696,
     "user": {
      "displayName": "Clash Clans",
      "photoUrl": "",
      "userId": "00562530571182710236"
     },
     "user_tz": -330
    },
    "id": "D2aFJyD-FMR7",
    "outputId": "d86429e8-2384-4a78-d631-7ea8ff522d7e"
   },
   "outputs": [
    {
     "name": "stdout",
     "output_type": "stream",
     "text": [
      "Got: cat of length -> 3\n",
      "Got: window of length -> 6\n",
      "Got: defenestrate of length -> 12\n"
     ]
    }
   ],
   "source": [
    "# Measure some strings:\n",
    "bag_of_words = ['cat', 'window', 'defenestrate']\n",
    "for word in bag_of_words:\n",
    "  print('Got:',word,'of length ->',len(word))"
   ]
  },
  {
   "cell_type": "markdown",
   "metadata": {
    "id": "f3Wtg_J5FzRI"
   },
   "source": [
    "### range() function with \"for statements\""
   ]
  },
  {
   "cell_type": "code",
   "execution_count": 30,
   "metadata": {
    "colab": {
     "base_uri": "https://localhost:8080/"
    },
    "executionInfo": {
     "elapsed": 640,
     "status": "ok",
     "timestamp": 1622962528340,
     "user": {
      "displayName": "Clash Clans",
      "photoUrl": "",
      "userId": "00562530571182710236"
     },
     "user_tz": -330
    },
    "id": "ATwRgBRIF7At",
    "outputId": "616a4372-5501-4de3-eb4a-5bc48d6f2306"
   },
   "outputs": [
    {
     "name": "stdout",
     "output_type": "stream",
     "text": [
      "[0, 1, 2, 3, 4, 5, 6, 7, 8, 9]\n",
      "[-17, -16, -15, -14, -13, -12, -11, -10, -9, -8, -7, -6, -5, -4, -3, -2]\n"
     ]
    },
    {
     "data": {
      "text/plain": [
       "[10, 21, 32, 43]"
      ]
     },
     "execution_count": 30,
     "metadata": {
      "tags": []
     },
     "output_type": "execute_result"
    }
   ],
   "source": [
    "# what print?  -> \n",
    "# range(stop) -> range object\n",
    "# range(start, stop[, step]) -> range object\n",
    "print(list(range(10)))\n",
    "print(list(range(-17,-1)))\n",
    "list(range(10,54,11))"
   ]
  },
  {
   "cell_type": "code",
   "execution_count": 31,
   "metadata": {
    "colab": {
     "base_uri": "https://localhost:8080/"
    },
    "executionInfo": {
     "elapsed": 6648,
     "status": "ok",
     "timestamp": 1622962716429,
     "user": {
      "displayName": "Clash Clans",
      "photoUrl": "",
      "userId": "00562530571182710236"
     },
     "user_tz": -330
    },
    "id": "iRpD8kGWGw0G",
    "outputId": "11fed2dd-2bf9-4aa5-fc69-8a29f14ccb84"
   },
   "outputs": [
    {
     "name": "stdout",
     "output_type": "stream",
     "text": [
      "Enter a integer: -33\n",
      "-33 X 1 = -33\n",
      "-33 X 2 = -66\n",
      "-33 X 3 = -99\n",
      "-33 X 4 = -132\n",
      "-33 X 5 = -165\n",
      "-33 X 6 = -198\n",
      "-33 X 7 = -231\n",
      "-33 X 8 = -264\n",
      "-33 X 9 = -297\n",
      "-33 X 10 = -330\n"
     ]
    }
   ],
   "source": [
    "a_number=int(input(\"Enter a integer: \"))\n",
    "for number in range(1,11):\n",
    "  print(a_number,'X',number,'=',a_number*number)"
   ]
  },
  {
   "cell_type": "markdown",
   "metadata": {
    "id": "Ek36tMMBHz3z"
   },
   "source": [
    "### break and continue Statements, and else Clauses on Loops\n",
    "\n",
    "The break statement, like in C, breaks out of the innermost enclosing for or while loop."
   ]
  },
  {
   "cell_type": "code",
   "execution_count": 33,
   "metadata": {
    "colab": {
     "base_uri": "https://localhost:8080/"
    },
    "executionInfo": {
     "elapsed": 5192,
     "status": "ok",
     "timestamp": 1622963145978,
     "user": {
      "displayName": "Clash Clans",
      "photoUrl": "",
      "userId": "00562530571182710236"
     },
     "user_tz": -330
    },
    "id": "avgES8Q-Hy6n",
    "outputId": "4b054ace-e79c-4d30-81eb-beb8e91b202c"
   },
   "outputs": [
    {
     "name": "stdout",
     "output_type": "stream",
     "text": [
      "Enter a integer: -2\n",
      "-2 X 1 = -2\n",
      "-2 X 2 = -4\n",
      "-2 X 3 = -6\n",
      "-2 X 4 = -8\n",
      "-2 X 6 = -12\n",
      "-2 X 7 = -14\n"
     ]
    }
   ],
   "source": [
    "# break and continue Statements\n",
    "a_number=int(input(\"Enter a integer: \"))\n",
    "for number in range(1,11):\n",
    "  if number==5: continue      # Loop will move to next value\n",
    "  if number==8: break        # Loop will stop (loop termination condition)\n",
    "  print(a_number,'X',number,'=',a_number*number)"
   ]
  },
  {
   "cell_type": "code",
   "execution_count": null,
   "metadata": {
    "id": "gzTDkYzFJFeq"
   },
   "outputs": [],
   "source": [
    "# Same code with while\n",
    "a_number=int(input(\"Enter a integer: \"))\n",
    "number=2 # Loop variable\n",
    "while True: # Infinite loop\n",
    "  number-=1     # Update loop variable.       ### number-=1  --> number=number+1\n",
    "  if number==-5: continue      # Loop will move to next value\n",
    "  if number==-12: break        # Loop will stop (loop termination condition)\n",
    "  print(a_number,'X',number,'=',a_number*number)\n",
    "  # number-=1     # BUG"
   ]
  },
  {
   "cell_type": "markdown",
   "metadata": {
    "id": "Pdzan02CI2F_"
   },
   "source": [
    "Loop statements may have an else clause; it is executed when the loop terminates through exhaustion of the iterable (with for) or when the condition becomes false (with while), but not when the loop is terminated by a break statement. This is exemplified by the following loop, which searches for prime numbers:\n",
    "\n"
   ]
  },
  {
   "cell_type": "code",
   "execution_count": 36,
   "metadata": {
    "colab": {
     "base_uri": "https://localhost:8080/"
    },
    "executionInfo": {
     "elapsed": 548,
     "status": "ok",
     "timestamp": 1622963645927,
     "user": {
      "displayName": "Clash Clans",
      "photoUrl": "",
      "userId": "00562530571182710236"
     },
     "user_tz": -330
    },
    "id": "82F4nM5qKhkn",
    "outputId": "82164753-3957-4981-c97f-5cfd3b4dd61d"
   },
   "outputs": [
    {
     "name": "stdout",
     "output_type": "stream",
     "text": [
      "3 is a prime number\n",
      "4 equals 2 * 2\n",
      "5 is a prime number\n",
      "5 is a prime number\n",
      "5 is a prime number\n",
      "6 equals 2 * 3\n",
      "7 is a prime number\n",
      "7 is a prime number\n",
      "7 is a prime number\n",
      "7 is a prime number\n",
      "7 is a prime number\n",
      "8 equals 2 * 4\n",
      "9 is a prime number\n",
      "9 equals 3 * 3\n",
      "10 equals 2 * 5\n"
     ]
    }
   ],
   "source": [
    "for number in range(2, 11):\n",
    "  for checker in range(2, number):\n",
    "    if number % checker == 0:\n",
    "      print(number, 'equals', checker, '*', number//checker)\n",
    "      break\n",
    "    else:\n",
    "      # loop fell through without finding a factor\n",
    "      print(number, 'is a prime number')"
   ]
  },
  {
   "cell_type": "markdown",
   "metadata": {
    "id": "lRzB0137MuaZ"
   },
   "source": [
    "### pass Statements"
   ]
  },
  {
   "cell_type": "code",
   "execution_count": null,
   "metadata": {
    "id": "_DUQpko1MwHi"
   },
   "outputs": [],
   "source": [
    "while True:\n",
    "  pass  # Busy-wait for keyboard interrupt (Ctrl+C)"
   ]
  },
  {
   "cell_type": "markdown",
   "metadata": {
    "id": "iobFUp4wNkXP"
   },
   "source": [
    "#9. [User define functions](https://docs.python.org/3.8/tutorial/controlflow.html#defining-functions)"
   ]
  },
  {
   "cell_type": "code",
   "execution_count": 38,
   "metadata": {
    "colab": {
     "base_uri": "https://localhost:8080/"
    },
    "executionInfo": {
     "elapsed": 645,
     "status": "ok",
     "timestamp": 1622964736613,
     "user": {
      "displayName": "Clash Clans",
      "photoUrl": "",
      "userId": "00562530571182710236"
     },
     "user_tz": -330
    },
    "id": "qqEk9Wb7N4o3",
    "outputId": "838c06de-36e0-49d9-c13e-dcef20b69aba"
   },
   "outputs": [
    {
     "name": "stdout",
     "output_type": "stream",
     "text": [
      "0 1 1 2 3 5 8 13 21 34 55 89 144 233 377 610 987 1597 \n"
     ]
    }
   ],
   "source": [
    "def fib(n):    \n",
    "  \"\"\"Print a Fibonacci series up to n.\"\"\"\n",
    "  a, b = 0, 1\n",
    "  while a < n:\n",
    "    print(a,end=' ')\n",
    "    a, b = b, a+b\n",
    "  print()\n",
    "\n",
    "# Now call the function we just defined:\n",
    "fib(2000)"
   ]
  },
  {
   "cell_type": "markdown",
   "metadata": {
    "id": "vQcFr4OcPSxc"
   },
   "source": [
    "### Default Argument Values - functions"
   ]
  },
  {
   "cell_type": "code",
   "execution_count": null,
   "metadata": {
    "id": "ziwquUzNPWio"
   },
   "outputs": [],
   "source": [
    "def ask_ok(prompt, retries=4, reminder='Please try again!'):\n",
    "    while True:\n",
    "        ok = input(prompt)\n",
    "        if ok in ('y', 'ye', 'yes'):\n",
    "            return True\n",
    "        if ok in ('n', 'no', 'nop', 'nope'):\n",
    "            return False\n",
    "        retries = retries - 1\n",
    "        if retries < 0:\n",
    "            raise ValueError('invalid user response')\n",
    "        print(reminder)"
   ]
  },
  {
   "cell_type": "markdown",
   "metadata": {
    "id": "MeRmtkyGPeF5"
   },
   "source": [
    "### Function with return"
   ]
  },
  {
   "cell_type": "code",
   "execution_count": 40,
   "metadata": {
    "colab": {
     "base_uri": "https://localhost:8080/"
    },
    "executionInfo": {
     "elapsed": 816,
     "status": "ok",
     "timestamp": 1622964974151,
     "user": {
      "displayName": "Clash Clans",
      "photoUrl": "",
      "userId": "00562530571182710236"
     },
     "user_tz": -330
    },
    "id": "XzlciJSUPcyp",
    "outputId": "8238d72c-05f7-4157-ac62-bf537929105b"
   },
   "outputs": [
    {
     "data": {
      "text/plain": [
       "[0, 1, 1, 2, 3, 5, 8, 13, 21, 34, 55, 89]"
      ]
     },
     "execution_count": 40,
     "metadata": {
      "tags": []
     },
     "output_type": "execute_result"
    }
   ],
   "source": [
    "def fib2(n):  \n",
    "  \"\"\"Return a list containing the Fibonacci series up to n.\"\"\"\n",
    "  result = []\n",
    "  a, b = 0, 1\n",
    "  while a < n:\n",
    "    result.append(a)    # see below\n",
    "    a, b = b, a+b\n",
    "  return result\n",
    "\n",
    "f100 = fib2(100)    # call it\n",
    "f100                # write the result"
   ]
  },
  {
   "cell_type": "markdown",
   "metadata": {
    "id": "GkcV1JzsRXRB"
   },
   "source": [
    "#10. [Data Structures](https://docs.python.org/3.8/tutorial/datastructures.html)"
   ]
  },
  {
   "cell_type": "markdown",
   "metadata": {
    "id": "JN74drlhSn7G"
   },
   "source": [
    "### List operations"
   ]
  },
  {
   "cell_type": "code",
   "execution_count": 44,
   "metadata": {
    "colab": {
     "base_uri": "https://localhost:8080/"
    },
    "executionInfo": {
     "elapsed": 543,
     "status": "ok",
     "timestamp": 1622965811110,
     "user": {
      "displayName": "Clash Clans",
      "photoUrl": "",
      "userId": "00562530571182710236"
     },
     "user_tz": -330
    },
    "id": "y65zufmXR_B-",
    "outputId": "0be2d902-82e9-49b1-9cf3-0a20a5502e82"
   },
   "outputs": [
    {
     "data": {
      "text/plain": [
       "2"
      ]
     },
     "execution_count": 44,
     "metadata": {
      "tags": []
     },
     "output_type": "execute_result"
    }
   ],
   "source": [
    "fruits = ['orange', 'apple', 'pear', 'banana', 'kiwi', 'apple', 'banana']\n",
    "fruits.count('apple')"
   ]
  },
  {
   "cell_type": "code",
   "execution_count": 45,
   "metadata": {
    "colab": {
     "base_uri": "https://localhost:8080/"
    },
    "executionInfo": {
     "elapsed": 645,
     "status": "ok",
     "timestamp": 1622965837125,
     "user": {
      "displayName": "Clash Clans",
      "photoUrl": "",
      "userId": "00562530571182710236"
     },
     "user_tz": -330
    },
    "id": "hMtgkv1GTQH9",
    "outputId": "4f4677fa-b928-4c36-8e54-f0962f9165aa"
   },
   "outputs": [
    {
     "data": {
      "text/plain": [
       "3"
      ]
     },
     "execution_count": 45,
     "metadata": {
      "tags": []
     },
     "output_type": "execute_result"
    }
   ],
   "source": [
    "fruits.index('banana')"
   ]
  },
  {
   "cell_type": "code",
   "execution_count": 46,
   "metadata": {
    "colab": {
     "base_uri": "https://localhost:8080/"
    },
    "executionInfo": {
     "elapsed": 1042,
     "status": "ok",
     "timestamp": 1622965845125,
     "user": {
      "displayName": "Clash Clans",
      "photoUrl": "",
      "userId": "00562530571182710236"
     },
     "user_tz": -330
    },
    "id": "qQ-AUS2wTWvg",
    "outputId": "238e4eb9-bdcc-430e-c2e1-47234cb2959a"
   },
   "outputs": [
    {
     "data": {
      "text/plain": [
       "6"
      ]
     },
     "execution_count": 46,
     "metadata": {
      "tags": []
     },
     "output_type": "execute_result"
    }
   ],
   "source": [
    "fruits.index('banana', 4)  # Find next banana starting a position 4"
   ]
  },
  {
   "cell_type": "code",
   "execution_count": 47,
   "metadata": {
    "colab": {
     "base_uri": "https://localhost:8080/"
    },
    "executionInfo": {
     "elapsed": 1082,
     "status": "ok",
     "timestamp": 1622965888006,
     "user": {
      "displayName": "Clash Clans",
      "photoUrl": "",
      "userId": "00562530571182710236"
     },
     "user_tz": -330
    },
    "id": "hS2GM1uMTYYB",
    "outputId": "5a010d40-ede0-4791-c78e-fb2bcb55debe"
   },
   "outputs": [
    {
     "data": {
      "text/plain": [
       "['banana', 'apple', 'kiwi', 'banana', 'pear', 'apple', 'orange']"
      ]
     },
     "execution_count": 47,
     "metadata": {
      "tags": []
     },
     "output_type": "execute_result"
    }
   ],
   "source": [
    "fruits.reverse() # No return ----\n",
    "fruits"
   ]
  },
  {
   "cell_type": "code",
   "execution_count": 48,
   "metadata": {
    "colab": {
     "base_uri": "https://localhost:8080/"
    },
    "executionInfo": {
     "elapsed": 612,
     "status": "ok",
     "timestamp": 1622965929574,
     "user": {
      "displayName": "Clash Clans",
      "photoUrl": "",
      "userId": "00562530571182710236"
     },
     "user_tz": -330
    },
    "id": "9fasmCHQTiwH",
    "outputId": "784a090b-851c-49a2-9f37-f8237dfe56c4"
   },
   "outputs": [
    {
     "data": {
      "text/plain": [
       "['apple', 'apple', 'banana', 'banana', 'kiwi', 'orange', 'pear']"
      ]
     },
     "execution_count": 48,
     "metadata": {
      "tags": []
     },
     "output_type": "execute_result"
    }
   ],
   "source": [
    "fruits.sort() # No return ----\n",
    "fruits"
   ]
  },
  {
   "cell_type": "code",
   "execution_count": 49,
   "metadata": {
    "colab": {
     "base_uri": "https://localhost:8080/"
    },
    "executionInfo": {
     "elapsed": 790,
     "status": "ok",
     "timestamp": 1622966008654,
     "user": {
      "displayName": "Clash Clans",
      "photoUrl": "",
      "userId": "00562530571182710236"
     },
     "user_tz": -330
    },
    "id": "KKEuht11T59D",
    "outputId": "47873815-8471-41d4-f1b5-d6a0e0c7ae06"
   },
   "outputs": [
    {
     "data": {
      "text/plain": [
       "['apple', 'apple', 'banana', 'banana', 'kiwi', 'orange', 'pear', 'grape']"
      ]
     },
     "execution_count": 49,
     "metadata": {
      "tags": []
     },
     "output_type": "execute_result"
    }
   ],
   "source": [
    "fruits.append('grape') # Add value at the last\n",
    "fruits"
   ]
  },
  {
   "cell_type": "code",
   "execution_count": 52,
   "metadata": {
    "colab": {
     "base_uri": "https://localhost:8080/"
    },
    "executionInfo": {
     "elapsed": 793,
     "status": "ok",
     "timestamp": 1622966128984,
     "user": {
      "displayName": "Clash Clans",
      "photoUrl": "",
      "userId": "00562530571182710236"
     },
     "user_tz": -330
    },
    "id": "QsJihNTvUAw1",
    "outputId": "c561c39e-9910-420c-828a-2898f09811cd"
   },
   "outputs": [
    {
     "name": "stdout",
     "output_type": "stream",
     "text": [
      "['apple', 'apple', 'banana', 'tangerine', 'tangerine', 'banana', 'kiwi', 'orange', 'pear', 'grape']\n"
     ]
    }
   ],
   "source": [
    "fruits.insert(3,'tangerine') # Insert value at the third index\n",
    "print(fruits)"
   ]
  },
  {
   "cell_type": "code",
   "execution_count": 53,
   "metadata": {
    "colab": {
     "base_uri": "https://localhost:8080/",
     "height": 35
    },
    "executionInfo": {
     "elapsed": 682,
     "status": "ok",
     "timestamp": 1622966163980,
     "user": {
      "displayName": "Clash Clans",
      "photoUrl": "",
      "userId": "00562530571182710236"
     },
     "user_tz": -330
    },
    "id": "H7G6klxqUhJ1",
    "outputId": "abab6057-118b-4505-a0f7-a3c991f4865d"
   },
   "outputs": [
    {
     "data": {
      "application/vnd.google.colaboratory.intrinsic+json": {
       "type": "string"
      },
      "text/plain": [
       "'grape'"
      ]
     },
     "execution_count": 53,
     "metadata": {
      "tags": []
     },
     "output_type": "execute_result"
    }
   ],
   "source": [
    "fruits.pop() # -> remove value from the last and return removed value"
   ]
  },
  {
   "cell_type": "code",
   "execution_count": 55,
   "metadata": {
    "colab": {
     "base_uri": "https://localhost:8080/"
    },
    "executionInfo": {
     "elapsed": 657,
     "status": "ok",
     "timestamp": 1622966211231,
     "user": {
      "displayName": "Clash Clans",
      "photoUrl": "",
      "userId": "00562530571182710236"
     },
     "user_tz": -330
    },
    "id": "tXwb_RcsUmON",
    "outputId": "39732f6f-159d-4c55-c9a0-afc0a2cd069c"
   },
   "outputs": [
    {
     "name": "stdout",
     "output_type": "stream",
     "text": [
      "['apple', 'apple', 'banana', 'tangerine', 'tangerine', 'banana', 'kiwi', 'orange', 'pear']\n"
     ]
    }
   ],
   "source": [
    "print(fruits)"
   ]
  },
  {
   "cell_type": "code",
   "execution_count": 56,
   "metadata": {
    "colab": {
     "base_uri": "https://localhost:8080/",
     "height": 35
    },
    "executionInfo": {
     "elapsed": 658,
     "status": "ok",
     "timestamp": 1622966239404,
     "user": {
      "displayName": "Clash Clans",
      "photoUrl": "",
      "userId": "00562530571182710236"
     },
     "user_tz": -330
    },
    "id": "iTNoa71wUy8A",
    "outputId": "aa83f449-876c-4fbb-ad4b-a59955ebd7c8"
   },
   "outputs": [
    {
     "data": {
      "application/vnd.google.colaboratory.intrinsic+json": {
       "type": "string"
      },
      "text/plain": [
       "'banana'"
      ]
     },
     "execution_count": 56,
     "metadata": {
      "tags": []
     },
     "output_type": "execute_result"
    }
   ],
   "source": [
    "fruits.pop(-4) # -> remove value from the -4 index and return removed value"
   ]
  },
  {
   "cell_type": "code",
   "execution_count": 57,
   "metadata": {
    "colab": {
     "base_uri": "https://localhost:8080/"
    },
    "executionInfo": {
     "elapsed": 571,
     "status": "ok",
     "timestamp": 1622966253789,
     "user": {
      "displayName": "Clash Clans",
      "photoUrl": "",
      "userId": "00562530571182710236"
     },
     "user_tz": -330
    },
    "id": "tWhP4ugAU5ia",
    "outputId": "08c8d589-2fdf-47c1-eb6e-42fa419091ae"
   },
   "outputs": [
    {
     "name": "stdout",
     "output_type": "stream",
     "text": [
      "['apple', 'apple', 'banana', 'tangerine', 'tangerine', 'kiwi', 'orange', 'pear']\n"
     ]
    }
   ],
   "source": [
    "print(fruits)"
   ]
  },
  {
   "cell_type": "markdown",
   "metadata": {
    "id": "bogO-q7-VMIZ"
   },
   "source": [
    "### Sets "
   ]
  },
  {
   "cell_type": "code",
   "execution_count": 58,
   "metadata": {
    "colab": {
     "base_uri": "https://localhost:8080/"
    },
    "executionInfo": {
     "elapsed": 581,
     "status": "ok",
     "timestamp": 1622966728616,
     "user": {
      "displayName": "Clash Clans",
      "photoUrl": "",
      "userId": "00562530571182710236"
     },
     "user_tz": -330
    },
    "id": "KDiAnhu2VLSA",
    "outputId": "a7a264d7-e0e0-4d83-bc60-75aec01de788"
   },
   "outputs": [
    {
     "data": {
      "text/plain": [
       "{'apple', 'banana', 'orange', 'pear'}"
      ]
     },
     "execution_count": 58,
     "metadata": {
      "tags": []
     },
     "output_type": "execute_result"
    }
   ],
   "source": [
    "basket = {'apple', 'orange', 'apple', 'pear', 'orange', 'banana'}     # also can do --> basket = set(fruits)\n",
    "basket"
   ]
  },
  {
   "cell_type": "code",
   "execution_count": 59,
   "metadata": {
    "colab": {
     "base_uri": "https://localhost:8080/"
    },
    "executionInfo": {
     "elapsed": 705,
     "status": "ok",
     "timestamp": 1622966747298,
     "user": {
      "displayName": "Clash Clans",
      "photoUrl": "",
      "userId": "00562530571182710236"
     },
     "user_tz": -330
    },
    "id": "tBRE7_S-WzWS",
    "outputId": "404bb138-c57c-4f45-d394-014b695f9092"
   },
   "outputs": [
    {
     "data": {
      "text/plain": [
       "True"
      ]
     },
     "execution_count": 59,
     "metadata": {
      "tags": []
     },
     "output_type": "execute_result"
    }
   ],
   "source": [
    "'orange' in basket #?"
   ]
  },
  {
   "cell_type": "markdown",
   "metadata": {
    "id": "ld9N2uf-XIsy"
   },
   "source": [
    "### Tuples"
   ]
  },
  {
   "cell_type": "code",
   "execution_count": 60,
   "metadata": {
    "colab": {
     "base_uri": "https://localhost:8080/"
    },
    "executionInfo": {
     "elapsed": 645,
     "status": "ok",
     "timestamp": 1622966863392,
     "user": {
      "displayName": "Clash Clans",
      "photoUrl": "",
      "userId": "00562530571182710236"
     },
     "user_tz": -330
    },
    "id": "ILlkgfaWW153",
    "outputId": "0771c7a9-802c-4ff2-ae30-7e6dbf5789ce"
   },
   "outputs": [
    {
     "data": {
      "text/plain": [
       "(12345, 54321, 'hello!')"
      ]
     },
     "execution_count": 60,
     "metadata": {
      "tags": []
     },
     "output_type": "execute_result"
    }
   ],
   "source": [
    "t = 12345, 54321, 'hello!'\n",
    "t"
   ]
  },
  {
   "cell_type": "code",
   "execution_count": 61,
   "metadata": {
    "colab": {
     "base_uri": "https://localhost:8080/"
    },
    "executionInfo": {
     "elapsed": 764,
     "status": "ok",
     "timestamp": 1622966928675,
     "user": {
      "displayName": "Clash Clans",
      "photoUrl": "",
      "userId": "00562530571182710236"
     },
     "user_tz": -330
    },
    "id": "74_2-kgyXQ95",
    "outputId": "28aaeb2f-2d0d-4e85-edb7-b3edbcdaefdb"
   },
   "outputs": [
    {
     "data": {
      "text/plain": [
       "((12345, 54321, 'hello!'), (1, 2, 3, 4, 5))"
      ]
     },
     "execution_count": 61,
     "metadata": {
      "tags": []
     },
     "output_type": "execute_result"
    }
   ],
   "source": [
    "# Tuples may be nested:\n",
    "u = t, (1, 2, 3, 4, 5)\n",
    "u"
   ]
  },
  {
   "cell_type": "code",
   "execution_count": null,
   "metadata": {
    "id": "-D9BEUDOXgzB"
   },
   "outputs": [],
   "source": [
    "# Tuples are immutable:\n",
    "#t[0] = 88888 # Error"
   ]
  },
  {
   "cell_type": "code",
   "execution_count": 68,
   "metadata": {
    "colab": {
     "base_uri": "https://localhost:8080/"
    },
    "executionInfo": {
     "elapsed": 658,
     "status": "ok",
     "timestamp": 1622967053574,
     "user": {
      "displayName": "Clash Clans",
      "photoUrl": "",
      "userId": "00562530571182710236"
     },
     "user_tz": -330
    },
    "id": "KMfXUwC6XuXZ",
    "outputId": "f64061ff-5ea0-42d7-9215-301d304c7241"
   },
   "outputs": [
    {
     "data": {
      "text/plain": [
       "([1, 2, 3], [3, 2, 1])"
      ]
     },
     "execution_count": 68,
     "metadata": {
      "tags": []
     },
     "output_type": "execute_result"
    }
   ],
   "source": [
    "# but they can contain mutable objects:\n",
    "v = ([1, 2, 3], [3, 2, 1])\n",
    "v"
   ]
  },
  {
   "cell_type": "code",
   "execution_count": 69,
   "metadata": {
    "colab": {
     "base_uri": "https://localhost:8080/"
    },
    "executionInfo": {
     "elapsed": 16,
     "status": "ok",
     "timestamp": 1622967056150,
     "user": {
      "displayName": "Clash Clans",
      "photoUrl": "",
      "userId": "00562530571182710236"
     },
     "user_tz": -330
    },
    "id": "Lx2MOGEFXyg7",
    "outputId": "c68898e0-690c-4b35-b7b0-701ad2da5db0"
   },
   "outputs": [
    {
     "data": {
      "text/plain": [
       "([1, -1, 3], [3, 2, 1])"
      ]
     },
     "execution_count": 69,
     "metadata": {
      "tags": []
     },
     "output_type": "execute_result"
    }
   ],
   "source": [
    "v[0][1]=-1\n",
    "v"
   ]
  },
  {
   "cell_type": "markdown",
   "metadata": {
    "id": "r2EtcYY2YStH"
   },
   "source": [
    "### Dictionaries"
   ]
  },
  {
   "cell_type": "code",
   "execution_count": 70,
   "metadata": {
    "colab": {
     "base_uri": "https://localhost:8080/"
    },
    "executionInfo": {
     "elapsed": 11,
     "status": "ok",
     "timestamp": 1622967260410,
     "user": {
      "displayName": "Clash Clans",
      "photoUrl": "",
      "userId": "00562530571182710236"
     },
     "user_tz": -330
    },
    "id": "uyGwHqFNYSYd",
    "outputId": "3bdb8146-cee0-4d4f-e35f-35647e32bf8e"
   },
   "outputs": [
    {
     "data": {
      "text/plain": [
       "{3: 'three', 'two': 2, 'word1': 'one meaning'}"
      ]
     },
     "execution_count": 70,
     "metadata": {
      "tags": []
     },
     "output_type": "execute_result"
    }
   ],
   "source": [
    "# Here is a small example using a dictionary\n",
    "d={'word1':'meaning',3:'three','two':2,'word1':'one meaning'}\n",
    "d"
   ]
  },
  {
   "cell_type": "code",
   "execution_count": 80,
   "metadata": {
    "colab": {
     "base_uri": "https://localhost:8080/"
    },
    "executionInfo": {
     "elapsed": 652,
     "status": "ok",
     "timestamp": 1622967761355,
     "user": {
      "displayName": "Clash Clans",
      "photoUrl": "",
      "userId": "00562530571182710236"
     },
     "user_tz": -330
    },
    "id": "f3UlIg9KY2AZ",
    "outputId": "a5ff20d7-e134-4036-fe5d-62dd5f49ea33"
   },
   "outputs": [
    {
     "data": {
      "text/plain": [
       "{'infinite': 'limitless', 'key': 'value', 'three': 3}"
      ]
     },
     "execution_count": 80,
     "metadata": {
      "tags": []
     },
     "output_type": "execute_result"
    }
   ],
   "source": [
    "# the other way\n",
    "d2=dict(key='value',infinite='limitless',three=3)\n",
    "d2"
   ]
  },
  {
   "cell_type": "code",
   "execution_count": 81,
   "metadata": {
    "colab": {
     "base_uri": "https://localhost:8080/"
    },
    "executionInfo": {
     "elapsed": 559,
     "status": "ok",
     "timestamp": 1622967764479,
     "user": {
      "displayName": "Clash Clans",
      "photoUrl": "",
      "userId": "00562530571182710236"
     },
     "user_tz": -330
    },
    "id": "tMoqx9S2aF36",
    "outputId": "7ca5c155-c9a6-4391-d361-324a97186288"
   },
   "outputs": [
    {
     "data": {
      "text/plain": [
       "{'jack': 4098, 'sape': 4139}"
      ]
     },
     "execution_count": 81,
     "metadata": {
      "tags": []
     },
     "output_type": "execute_result"
    }
   ],
   "source": [
    "# Operations on dict\n",
    "tel = {'jack': 4098, 'sape': 4139}\n",
    "tel"
   ]
  },
  {
   "cell_type": "code",
   "execution_count": 82,
   "metadata": {
    "colab": {
     "base_uri": "https://localhost:8080/"
    },
    "executionInfo": {
     "elapsed": 7,
     "status": "ok",
     "timestamp": 1622967766245,
     "user": {
      "displayName": "Clash Clans",
      "photoUrl": "",
      "userId": "00562530571182710236"
     },
     "user_tz": -330
    },
    "id": "-U1rRvhHaS_a",
    "outputId": "f9655bf0-2c04-489d-ca27-4b0dfab6f3a7"
   },
   "outputs": [
    {
     "data": {
      "text/plain": [
       "{'guido': 4127, 'jack': 4098, 'sape': 4139}"
      ]
     },
     "execution_count": 82,
     "metadata": {
      "tags": []
     },
     "output_type": "execute_result"
    }
   ],
   "source": [
    "tel['guido'] = 4127 # adding new key value pair\n",
    "tel"
   ]
  },
  {
   "cell_type": "code",
   "execution_count": 83,
   "metadata": {
    "colab": {
     "base_uri": "https://localhost:8080/"
    },
    "executionInfo": {
     "elapsed": 820,
     "status": "ok",
     "timestamp": 1622967769976,
     "user": {
      "displayName": "Clash Clans",
      "photoUrl": "",
      "userId": "00562530571182710236"
     },
     "user_tz": -330
    },
    "id": "sfWMEUvdae3i",
    "outputId": "3fb48a59-db5d-45f5-dd68-368bb47e91b5"
   },
   "outputs": [
    {
     "data": {
      "text/plain": [
       "True"
      ]
     },
     "execution_count": 83,
     "metadata": {
      "tags": []
     },
     "output_type": "execute_result"
    }
   ],
   "source": [
    "'guido' in tel # Key present or not "
   ]
  },
  {
   "cell_type": "code",
   "execution_count": 84,
   "metadata": {
    "colab": {
     "base_uri": "https://localhost:8080/"
    },
    "executionInfo": {
     "elapsed": 573,
     "status": "ok",
     "timestamp": 1622967824000,
     "user": {
      "displayName": "Clash Clans",
      "photoUrl": "",
      "userId": "00562530571182710236"
     },
     "user_tz": -330
    },
    "id": "0Nfj7rZdavCH",
    "outputId": "fa948c9c-ccce-4a35-f9ed-74e8bafca212"
   },
   "outputs": [
    {
     "name": "stdout",
     "output_type": "stream",
     "text": [
      "dict_keys(['jack', 'sape', 'guido'])\n",
      "dict_values([4098, 4139, 4127])\n"
     ]
    }
   ],
   "source": [
    "# Get all keys\n",
    "print(tel.keys())\n",
    "# Get all values\n",
    "print(tel.values())"
   ]
  },
  {
   "cell_type": "markdown",
   "metadata": {
    "id": "6veFQfJPbCai"
   },
   "source": [
    "#11. Looping Techniques"
   ]
  },
  {
   "cell_type": "code",
   "execution_count": 85,
   "metadata": {
    "colab": {
     "base_uri": "https://localhost:8080/"
    },
    "executionInfo": {
     "elapsed": 558,
     "status": "ok",
     "timestamp": 1622968402245,
     "user": {
      "displayName": "Clash Clans",
      "photoUrl": "",
      "userId": "00562530571182710236"
     },
     "user_tz": -330
    },
    "id": "7pyOaPQabKX1",
    "outputId": "d82a3575-70f1-4712-ef76-e652278cb744"
   },
   "outputs": [
    {
     "name": "stdout",
     "output_type": "stream",
     "text": [
      "6 orange\n",
      "5 apple\n",
      "4 pear\n",
      "6 banana\n",
      "4 kiwi\n"
     ]
    }
   ],
   "source": [
    "basket=['orange', 'apple', 'pear', 'banana', 'kiwi']\n",
    "for fruit in basket:\n",
    "  print(len(fruit),fruit)"
   ]
  },
  {
   "cell_type": "code",
   "execution_count": 86,
   "metadata": {
    "colab": {
     "base_uri": "https://localhost:8080/"
    },
    "executionInfo": {
     "elapsed": 7,
     "status": "ok",
     "timestamp": 1622968465085,
     "user": {
      "displayName": "Clash Clans",
      "photoUrl": "",
      "userId": "00562530571182710236"
     },
     "user_tz": -330
    },
    "id": "VDc0HVmDdI_7",
    "outputId": "98b56cd0-df06-442b-e81e-050403b615e5"
   },
   "outputs": [
    {
     "name": "stdout",
     "output_type": "stream",
     "text": [
      "gallahad the pure\n",
      "robin the brave\n"
     ]
    }
   ],
   "source": [
    "knights = {'gallahad': 'the pure', 'robin': 'the brave'}\n",
    "for key, value in knights.items():\n",
    "  print(key, value)"
   ]
  },
  {
   "cell_type": "markdown",
   "metadata": {
    "id": "B8ANr_yhdhMG"
   },
   "source": [
    "When looping through a sequence, the position index and corresponding value can be retrieved at the same time using the enumerate() function."
   ]
  },
  {
   "cell_type": "code",
   "execution_count": 87,
   "metadata": {
    "colab": {
     "base_uri": "https://localhost:8080/"
    },
    "executionInfo": {
     "elapsed": 566,
     "status": "ok",
     "timestamp": 1622968534384,
     "user": {
      "displayName": "Clash Clans",
      "photoUrl": "",
      "userId": "00562530571182710236"
     },
     "user_tz": -330
    },
    "id": "PQVRfIoDddUP",
    "outputId": "e33f0dac-0106-4c77-d241-33d3652fb3e2"
   },
   "outputs": [
    {
     "name": "stdout",
     "output_type": "stream",
     "text": [
      "0 tic\n",
      "1 tac\n",
      "2 toe\n"
     ]
    }
   ],
   "source": [
    "for i, v in enumerate(['tic', 'tac', 'toe']):\n",
    "  print(i, v)"
   ]
  },
  {
   "cell_type": "markdown",
   "metadata": {
    "id": "FRgtaFMWpoF7"
   },
   "source": [
    "#12. List vs Strings ?"
   ]
  },
  {
   "cell_type": "code",
   "execution_count": 88,
   "metadata": {
    "colab": {
     "base_uri": "https://localhost:8080/"
    },
    "executionInfo": {
     "elapsed": 570,
     "status": "ok",
     "timestamp": 1622968593565,
     "user": {
      "displayName": "Clash Clans",
      "photoUrl": "",
      "userId": "00562530571182710236"
     },
     "user_tz": -330
    },
    "id": "_GDyHDI2bH5i",
    "outputId": "69b15e69-9e17-446f-dc62-e6ebaa4566ff"
   },
   "outputs": [
    {
     "name": "stdout",
     "output_type": "stream",
     "text": [
      "4 orange\n",
      "5 apple\n",
      "6 pear\n",
      "7 banana\n",
      "8 kiwi\n"
     ]
    }
   ],
   "source": [
    "# List \n",
    "for i, v in enumerate(basket,4):\n",
    "  print(i, v)"
   ]
  },
  {
   "cell_type": "code",
   "execution_count": 89,
   "metadata": {
    "colab": {
     "base_uri": "https://localhost:8080/"
    },
    "executionInfo": {
     "elapsed": 587,
     "status": "ok",
     "timestamp": 1622968642249,
     "user": {
      "displayName": "Clash Clans",
      "photoUrl": "",
      "userId": "00562530571182710236"
     },
     "user_tz": -330
    },
    "id": "NUlOmQ1_d3tf",
    "outputId": "98add9b6-64b7-4ee2-b971-fe36d0a57bbd"
   },
   "outputs": [
    {
     "name": "stdout",
     "output_type": "stream",
     "text": [
      "4 p\n",
      "5 y\n",
      "6 t\n",
      "7 h\n",
      "8 o\n",
      "9 n\n"
     ]
    }
   ],
   "source": [
    "# Same for string \n",
    "for i, v in enumerate('python',4):\n",
    "  print(i, v)"
   ]
  },
  {
   "cell_type": "code",
   "execution_count": 93,
   "metadata": {
    "colab": {
     "base_uri": "https://localhost:8080/"
    },
    "executionInfo": {
     "elapsed": 599,
     "status": "ok",
     "timestamp": 1622968904952,
     "user": {
      "displayName": "Clash Clans",
      "photoUrl": "",
      "userId": "00562530571182710236"
     },
     "user_tz": -330
    },
    "id": "IdxliRdYeDqV",
    "outputId": "d98e46ff-3654-45ac-f6d7-5b2a4d1c8d6e"
   },
   "outputs": [
    {
     "name": "stdout",
     "output_type": "stream",
     "text": [
      "word_list: ['p', 'y', 't', 'h', 'o', 'n']\n",
      "word: python\n",
      "word_list change: ['C', 'y', 't', 'h', 'o', 'n']\n"
     ]
    }
   ],
   "source": [
    "# Diffference\n",
    "word_list,word=list('python'),'python'\n",
    "print('word_list:',word_list)\n",
    "print('word:',word)\n",
    "\n",
    "word_list[0]='C'\n",
    "print('word_list change:',word_list)\n",
    "\n",
    "#word[0]='C' # error!"
   ]
  },
  {
   "cell_type": "markdown",
   "metadata": {
    "id": "DA2jaJeyxkQN"
   },
   "source": [
    "# Reference: \n",
    "* https://www.python.org/\n",
    "* [Docs](https://docs.python.org/3.6/tutorial/index.html)\n",
    "* [Google's Python Class](https://developers.google.com/edu/python)\n",
    "* [Microsoft's Introduction to Python](https://docs.microsoft.com/en-us/learn/modules/intro-to-python/)\n",
    "\n"
   ]
  }
 ],
 "metadata": {
  "colab": {
   "authorship_tag": "ABX9TyMvF9ubg9qNKf61R3wwoaYu",
   "collapsed_sections": [
    "O9GeRJwZyHQm",
    "kkTiLanpygZU",
    "cDHerArdzwCL",
    "r5p-vEtL23Sd",
    "Nmkfq25h6U3P",
    "TXuxV0LEOP_1",
    "fVBtglDY9fkb",
    "FSETwd0g_rtG",
    "YqxDz068CKgT",
    "SNP3aJr01Kp2",
    "y4bOZtoc1Vw5",
    "3kG-GkgW1-aA",
    "y4zz5a-bFaoq",
    "3iMlB2AG2DkX",
    "Dv25RjLNRHGk",
    "Rn-fgFWXRUUE",
    "Lcr-OUfAA6GE",
    "8X0JZFUVBQnp",
    "jQoqf7EBEILq",
    "RqhcYJ_eFMr0",
    "f3Wtg_J5FzRI",
    "Ek36tMMBHz3z",
    "iobFUp4wNkXP",
    "GkcV1JzsRXRB",
    "JN74drlhSn7G",
    "bogO-q7-VMIZ",
    "ld9N2uf-XIsy",
    "r2EtcYY2YStH",
    "6veFQfJPbCai",
    "FRgtaFMWpoF7",
    "DA2jaJeyxkQN"
   ],
   "name": "pythonTutorial.ipynb",
   "provenance": []
  },
  "kernelspec": {
   "display_name": "Python 3",
   "language": "python",
   "name": "python3"
  },
  "language_info": {
   "codemirror_mode": {
    "name": "ipython",
    "version": 3
   },
   "file_extension": ".py",
   "mimetype": "text/x-python",
   "name": "python",
   "nbconvert_exporter": "python",
   "pygments_lexer": "ipython3",
   "version": "3.8.3"
  }
 },
 "nbformat": 4,
 "nbformat_minor": 1
}
